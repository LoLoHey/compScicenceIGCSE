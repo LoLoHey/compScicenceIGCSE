{
 "cells": [
  {
   "cell_type": "code",
   "execution_count": 1,
   "id": "93d8f3bc-80cc-486a-b9d7-f506282bc31c",
   "metadata": {},
   "outputs": [
    {
     "name": "stdin",
     "output_type": "stream",
     "text": [
      "tell me your age 12\n"
     ]
    }
   ],
   "source": [
    "age = int(input(\"tell me your age:\"))\n",
    "\n",
    "if age > 19 : print(\"your are an adult\")"
   ]
  },
  {
   "attachments": {},
   "cell_type": "markdown",
   "id": "b849251c-f4e9-48c4-b3d8-6f34131fbf3f",
   "metadata": {},
   "source": [
    "# Problem Solving\n",
    "\n",
    "## 1. Understand Algorithms\n",
    "\n",
    "**Construct**: \"build\" an algorithm, control the flow of instructions.\n",
    "\n",
    "**Unambiguous**: The instruction cannot be misunderstood.\n",
    "\n",
    "**Sequence**: An  ordered set of instructions.\n",
    "\n",
    "**Algorithm**: A  precise method for solving a given problem.\n",
    "\n",
    "### Succesful Algorithms\n",
    "\n",
    "- Accuracy: We should obtain the expected outcome.\n",
    "- Consistency: Produce the same result each time.\n",
    "- Efficiency: Solve the problem in the shortest possible time, using as few computer resources as possible.\n",
    "  \n",
    "**Outcome**: Final result of an action\n",
    "\n",
    "### Algorithms and Programs\n",
    "\n",
    "A program is when the design of an algorithm is implemented.\n",
    "\n",
    "*high-level programming languages*: language that is similar to natural human language. Compare to low-level *programming language*: language that only a computer can understand.\n",
    "\n",
    "### Displaying an algorithm\n",
    "\n",
    "An algorithm can be expressed in different ways.\n",
    "\n",
    "#### Written descriptions\n",
    "\n",
    "For example, how to make a cup of coffee.\n",
    "\n",
    "#### Flowcharts\n",
    "\n",
    "<img src=\"Img/flowchart.png \" width=\"500\">\n",
    "\n",
    "#### Pseudocode\n",
    "\n",
    "- Pseudocode: a structured, code-like language that can be used to desrcibe an algorithm.\n",
    "\n",
    "It allows the developer to concentrate on the logic and efficiency of an algorithm.\n",
    "\n",
    "#### Arithmetic operators\n",
    "\n",
    "Arithmetic operator performs a calculation on two variables/numbers\n",
    "\n",
    "- \\+ Addition\n",
    "- \\- Substraction\n",
    "- \\* Multiplication\n",
    "-  / Real division\n",
    "-  DIV Quotient: Return the quotient of a division\n",
    "-  MOD Modulo: Return the remainder of a division\n",
    "-  ^ Exponentiation\n",
    "\n",
    "### Variables and constants\n",
    "\n",
    "- **Variable** is a container used to store data.\n",
    "- **Constant** is a 'container' that hold a value that never changes.\n",
    "- **Identifier** a unique name given to a variable or a constant. It is important that you use **descriptive** name.\n",
    "\n",
    "#### Naming Conventions for variables and constants\n",
    "  \n",
    "There are different conventions:\n",
    "- camel case: with no space between words and the second word starting with a capital letter. (firstName, lengthCube)\n",
    "- snake case: separate the words with an underscore. (first_name, lenght_cube)\n",
    "- It is **very important** that you are consistent with your naming convention. "
   ]
  },
  {
   "cell_type": "markdown",
   "id": "b8ea2a45-c9c1-453e-bedf-2325ee6221c5",
   "metadata": {},
   "source": [
    "\n"
   ]
  },
  {
   "cell_type": "markdown",
   "id": "e6429437-16ff-4244-9b23-7b7e2f05dedd",
   "metadata": {},
   "source": [
    "## 2. Creating algorithms\n",
    "\n",
    "### Algorithms for computers\n",
    "\n",
    "- Construct is a smaller part from which something is built.\n",
    "- Selection is a construct that allows a choice to be made.\n",
    "- Iteration is a construct that means a process is repeated until a **condition** is met or a particular outcome is reached.\n",
    "\n",
    "<img src=\"Img/iteration.png \" width=\"500\">\n"
   ]
  },
  {
   "attachments": {},
   "cell_type": "markdown",
   "id": "cb00b3fa-9578-456f-ae31-d2cfd7788bb6",
   "metadata": {},
   "source": [
    "## 3. Sorting and searching algorithms\n",
    "\n",
    "### Sorting Algorithms\n",
    "\n",
    "- Ascending order: from smallest to largest\n",
    "- Descending order: from largest to smallest\n",
    "- traversal travel across or through something\n",
    "\n",
    "#### Bubble sort\n",
    "\n",
    "<img src=\"Img/bubbleDiagram.png \" width=\"500\">\n",
    "\n",
    "#### Merge Sort\n",
    "\n",
    "- **Recursion**: Applying a method to a results of a previous application of the same method.\n",
    "\n",
    "<img src=\"Img/mergeDiagram.jpg \" width=\"500\">\n",
    "\n",
    "#### Efficiency of sorting algorithms\n",
    "\n",
    "- **Brute force**: Relies on computing power to try all possibilitues until the solution to a problem is found.\n",
    "- **Divide and conquer**: Relies on dividing the problem into smaller and smaller sub-problems until they are easy to solve.\n",
    "\n",
    "<img src=\"Img/efficiency.PNG \" width=\"500\">\n",
    "\n",
    "### Searching algorithms\n",
    "\n",
    "#### Linear Search\n",
    "\n",
    "Very simple, simply check all the items in the list.\n",
    "\n",
    "- **sequential**: following in order, one after the other\n",
    "\n",
    "#### Binary Search\n",
    "\n",
    "A 'divide and conquer' algorithm and also **recursion** . It will only work on a **sorted list**.\n",
    "In a binary search the **median** (middle) item in the list is repeatedly selected to reduce the size.\n",
    "\n",
    "<img src=\"Img/binarySearch.png \" width=\"500\">\n",
    "\n",
    "#### Efficiency of searching algorithms\n",
    "\n",
    "Searching algorithms should be compared by looking at the worst case scenario.\n",
    "\n",
    "- Binary search is much more efficient but the list must be sorted first.\n",
    "- Which one to use? It depends"
   ]
  },
  {
   "cell_type": "markdown",
   "id": "4163f22f-57dd-4f09-85d0-ee4a05490f45",
   "metadata": {},
   "source": [
    "## 4 Decomposition and abstraction\n",
    "\n",
    "The **thought process** of *decomposition* and *abstraction*\n",
    "\n",
    "### Problem solving\n",
    "\n",
    "- **Computational thinking**: thinking the solution of a problen in a form that be solve by a computer.\n",
    "- **decomposition**: Breaking the problem down into smaller ones\n",
    "- **abstraction**: removing/hiding not relevant details\n",
    "\n",
    "### Decomposition\n",
    "\n",
    "We break down a problem into smaller pieces. Try to make each sub-problem an *independent* problem.\n",
    "Smaller problem means smaller algorithm and it would be easier to spot and correct errors.\n",
    "\n",
    "This proces can be repeated on each sub-problem.\n",
    "\n",
    "<img src=\"Img/decomposition.jpg \" width=\"500\">\n",
    "\n",
    "### Abstraction\n",
    "\n",
    "When creating an algorithm we try to make abstraction of the details.\n",
    "\n",
    "- **Abstraction** is the process of generalizing concrete details\n",
    "- **model**: Make a simple version of something.\n",
    "\n",
    "#### Levels of abstraction\n",
    "\n",
    "The higher the level of abstraction, the less detail is required."
   ]
  },
  {
   "cell_type": "markdown",
   "id": "e2867e20-b8d1-4506-bd79-4a0df95fce08",
   "metadata": {},
   "source": [
    "small key: Plan how to test your finished program; what data to use and what outcomes it should produce."
   ]
  },
  {
   "cell_type": "markdown",
   "id": "777b3324-dc7b-4e8a-9fda-aadc5ab59a34",
   "metadata": {},
   "source": [
    "### Coding an algorithm\n",
    "\n",
    "High level programming language make it easier to code. But the code needs to be translated into *machine code*.\n",
    "These high level languages are therefore at a high level of abstraction.\n",
    "\n",
    "<img src=\"Img/MachineLang.gif \" width=\"500\">\n"
   ]
  },
  {
   "cell_type": "code",
   "execution_count": 3,
   "id": "4518c322-ad14-4e5e-aac8-7c9a3e96a016",
   "metadata": {},
   "outputs": [
    {
     "name": "stdout",
     "output_type": "stream",
     "text": [
      "6\n"
     ]
    }
   ],
   "source": [
    "a = 4\n",
    "b = 2\n",
    "print(a + b)"
   ]
  },
  {
   "cell_type": "markdown",
   "id": "32097370-9b7e-4d3e-b2d4-ee330d270ab7",
   "metadata": {},
   "source": [
    "- **subprogram**: a self-contained module of code that performs a specific task. It can be *called* by the main program."
   ]
  }
 ],
 "metadata": {
  "kernelspec": {
   "display_name": "Python 3 (ipykernel)",
   "language": "python",
   "name": "python3"
  },
  "language_info": {
   "codemirror_mode": {
    "name": "ipython",
    "version": 3
   },
   "file_extension": ".py",
   "mimetype": "text/x-python",
   "name": "python",
   "nbconvert_exporter": "python",
   "pygments_lexer": "ipython3",
   "version": "3.12.4"
  }
 },
 "nbformat": 4,
 "nbformat_minor": 5
}
