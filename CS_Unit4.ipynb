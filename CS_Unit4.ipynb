{
 "cells": [
  {
   "cell_type": "markdown",
   "id": "67506bcf-d94e-4051-90e8-f64341bc4bfb",
   "metadata": {},
   "source": [
    "# Unit 4 Computers\n",
    "\n",
    "## 16 Machines and Computational Models\n",
    "\n",
    "### The Input_Process-Output model\n",
    "\n",
    "A computer is a machine that takes some kind of **input** from its surroundongs, **processes** the input according to given rules and provides some kind of **output**.\n",
    "\n",
    "<img src=\"Img/U4_16_computer.png\" width=\"400\">\n",
    "\n",
    "- **input**: to enter data into a computer\n",
    "- **process**: to change the meaning or format of some data\n",
    "- **output**: to display or output data that has been processed (or stored)\n",
    "- **function machine**: a metaphor or diagram that represents a machine that takes an input, applies a set of rules/operations and deliver the output.\n",
    "\n",
    "As the process becomes more and more complex, you might need temporay storage or memory.\n",
    "\n",
    "<img src=\"Img/U4_16_computer2.png\" width=\"400\" title=\"Title text\">\n",
    "\n",
    "### Range of Computational Model\n",
    "\n",
    "Computational models describe how algorithms are executed by a machine.\n",
    "\n",
    "#### Sequential\n",
    "\n",
    "In the sequential model, the instructions are followed step by step, in order, from start to finish.\n",
    "\n",
    "#### Parallel\n",
    "\n",
    "In the parallel model, computer processes are distributed between two or more processors in a computer. It requires software programs capable of distributing processes between them.\n",
    "\n",
    "#### Multi-Agent\n",
    "\n",
    "In the parallel model, one task is processed by several processors while in the multi-agent model, separate tasks are processed by different systems (agents) to perform a particular function. Each agent is **autonomous**, but they cooperate with each other through *negotiation* and *coordination*.\n",
    "\n",
    "-**agent**: a computer system that can interpret its environment. It can act autonomously upon that environment\n",
    "-**autonomous**: self-directed and acts without any help or guidance.\n"
   ]
  },
  {
   "cell_type": "markdown",
   "id": "90600cac-42a5-43f0-b288-35fcb543fe4e",
   "metadata": {},
   "source": [
    "#### Activity 3"
   ]
  },
  {
   "cell_type": "code",
   "execution_count": 13,
   "id": "861fafc2-1d14-4139-af90-b6b17d3af67d",
   "metadata": {
    "scrolled": true
   },
   "outputs": [
    {
     "name": "stdin",
     "output_type": "stream",
     "text": [
      "Please enter your password:  qazwsxED!\n"
     ]
    },
    {
     "name": "stdout",
     "output_type": "stream",
     "text": [
      "3\n",
      "Strong\n"
     ]
    }
   ],
   "source": [
    "#ask the algorithm\n",
    "password = input('Please enter your password: ')\n",
    "\n",
    "strength = 0\n",
    "specialChar = \"#$%&'()*+,-./:;<=>?@[\\]^_`{|}~!\"\n",
    "\n",
    "if len(password) >= 8:\n",
    "    strength += 1\n",
    "if password.upper() != password and password.lower() != password:\n",
    "    strength += 1\n",
    "for char in password:\n",
    "    if char in specialChar:\n",
    "        strength += 1\n",
    "        break\n",
    "\n",
    "if strength == 0:\n",
    "    print(\"Too weak!\")\n",
    "elif strength == 1:    \n",
    "    print(\"Weak\")\n",
    "elif strength == 2:    \n",
    "    print(\"Medium\")\n",
    "elif strength == 3:    \n",
    "    print(\"Strong\")"
   ]
  },
  {
   "cell_type": "markdown",
   "id": "38921e25-3be1-4659-82ca-5014d7f5af15",
   "metadata": {},
   "source": [
    "## 17 Hardware\n",
    "\n"
   ]
  }
 ],
 "metadata": {
  "kernelspec": {
   "display_name": "Python 3 (ipykernel)",
   "language": "python",
   "name": "python3"
  },
  "language_info": {
   "codemirror_mode": {
    "name": "ipython",
    "version": 3
   },
   "file_extension": ".py",
   "mimetype": "text/x-python",
   "name": "python",
   "nbconvert_exporter": "python",
   "pygments_lexer": "ipython3",
   "version": "3.9.7"
  }
 },
 "nbformat": 4,
 "nbformat_minor": 5
}
