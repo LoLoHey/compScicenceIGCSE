{
 "cells": [
  {
   "cell_type": "markdown",
   "id": "a495bf8e-dede-4d58-b382-86c4b3222ff0",
   "metadata": {},
   "source": [
    "### a)\tFinding the Average of Numbers:\n",
    "\n",
    "Input: A list of numbers in a text file.\n",
    "Process: Add all the numbers and divide by the total number of numbers.\n",
    "Output: The average of the numbers on screen\n",
    "\n",
    "### b)\tReversing a String:\n",
    "\n",
    "Input: A string in a text file.\n",
    "Process: Iterate through the string from the end to the beginning and append each character to a new string.\n",
    "Output: The reversed string on screen and in a new text file.\n"
   ]
  },
  {
   "cell_type": "markdown",
   "id": "b2b24327-28b1-4177-b361-8009e46312ad",
   "metadata": {},
   "source": [
    "### Proposed solution\n",
    "\n",
    "### a)\tFinding the Average of Numbers:\n",
    "\n",
    "**Flowchart:**\n",
    "\n",
    "<img src=\"Assets/HW3A_flowchart.jpg\" width=\"400\">\n",
    "\n",
    "**Pseudocode:**\n",
    "\n",
    "```\n",
    "FUNCTION average(fileName)\n",
    "BEGIN FUNCTION\n",
    "\n",
    "READ filename numbers\n",
    "\tSET sum TO 0\n",
    "\n",
    "\tFOR EACH item FROM numbers DO\n",
    "\t\tsum = sum + item\n",
    "\tEND FOREACH\n",
    "\n",
    "\tlenNum = LENGTH (numbers)\n",
    "\tSET mean TO sum/ lenNum\n",
    "\n",
    "\tRETURN mean\n",
    "\n",
    "END FUNCTION\n",
    "\n",
    "SET mean TO average(numbers.txt)\n",
    "SEND mean TO DISPLAY\n",
    "```\n",
    "\n",
    "**Python:**"
   ]
  },
  {
   "cell_type": "code",
   "execution_count": 2,
   "id": "88256ca2-5229-4e42-a8d5-ebb1e591a523",
   "metadata": {},
   "outputs": [
    {
     "name": "stdout",
     "output_type": "stream",
     "text": [
      "45.833333333333336\n"
     ]
    }
   ],
   "source": [
    "#definition of the function to get the average.\n",
    "def average(file):\n",
    "\n",
    "    #opening the file then closing ounce read.\n",
    "    myFile = open(file, 'r')\n",
    "    numberList = myFile.read().split(',')\n",
    "    myFile.close()\n",
    "\n",
    "    #initialisation\n",
    "    length = len(numberList)\n",
    "    sum = 0\n",
    "\n",
    "    #for each item in the list of numbers, calculate the sum of each item.\n",
    "    for number in numberList:\n",
    "        #we need to use int() because the number are stored as string in the list\n",
    "        sum = sum + int(number) \n",
    "        \n",
    "    return sum/length\n",
    "\n",
    "#call of the function\n",
    "mean = average('Assets/numbers.txt')\n",
    "\n",
    "print(mean)"
   ]
  },
  {
   "cell_type": "markdown",
   "id": "898cb1df-b6e9-4009-afa1-92cae1cf672b",
   "metadata": {},
   "source": [
    "### b)\tReversing a String:\n",
    "\n",
    "**Flowchart:**\n",
    "\n",
    "<img src=\"Assets/HW3B_flowchart.jpg\" width=\"400\">\n",
    "\n",
    "**Pseudocode:**\n",
    "\n",
    "```\n",
    "FUNCTION reverse(string)\n",
    "BEGIN FUNCTION\n",
    "\n",
    "\tSET reverseString TO ‘’\n",
    "\n",
    "\tFOR EACH char FROM string DO\n",
    "\t\treverseString = char + reverseString\n",
    "\tEND FOREACH\n",
    "\n",
    "\tRETURN reverseString\n",
    "\n",
    "END FUNCTION\n",
    "\n",
    "READ text.txt string\n",
    "\n",
    "SET reverseString TO reverse(string)\n",
    "\n",
    "SEND reverse(string) TO DISPLAY\n",
    "WRITE reverseString.txt reverseString\n",
    "```\n",
    "\n",
    "**Pyhton:**"
   ]
  },
  {
   "cell_type": "code",
   "execution_count": 3,
   "id": "daeca1d3-6da0-4db2-aae6-02d9952dad28",
   "metadata": {},
   "outputs": [
    {
     "ename": "FileNotFoundError",
     "evalue": "[Errno 2] No such file or directory: 'string.txt'",
     "output_type": "error",
     "traceback": [
      "\u001b[1;31m---------------------------------------------------------------------------\u001b[0m",
      "\u001b[1;31mFileNotFoundError\u001b[0m                         Traceback (most recent call last)",
      "Cell \u001b[1;32mIn[3], line 16\u001b[0m\n\u001b[0;32m     13\u001b[0m     \u001b[38;5;28;01mreturn\u001b[39;00m reverseString\n\u001b[0;32m     15\u001b[0m \u001b[38;5;66;03m#opening the file then closing ounce read.\u001b[39;00m\n\u001b[1;32m---> 16\u001b[0m readingFile \u001b[38;5;241m=\u001b[39m \u001b[38;5;28;43mopen\u001b[39;49m\u001b[43m(\u001b[49m\u001b[38;5;124;43m'\u001b[39;49m\u001b[38;5;124;43mstring.txt\u001b[39;49m\u001b[38;5;124;43m'\u001b[39;49m\u001b[43m,\u001b[49m\u001b[43m \u001b[49m\u001b[38;5;124;43m'\u001b[39;49m\u001b[38;5;124;43mr\u001b[39;49m\u001b[38;5;124;43m'\u001b[39;49m\u001b[43m)\u001b[49m\n\u001b[0;32m     17\u001b[0m string \u001b[38;5;241m=\u001b[39m readingFile\u001b[38;5;241m.\u001b[39mread()\n\u001b[0;32m     18\u001b[0m readingFile\u001b[38;5;241m.\u001b[39mclose()\n",
      "File \u001b[1;32m~\\AppData\\Local\\Programs\\Python\\Python39\\lib\\site-packages\\IPython\\core\\interactiveshell.py:310\u001b[0m, in \u001b[0;36m_modified_open\u001b[1;34m(file, *args, **kwargs)\u001b[0m\n\u001b[0;32m    303\u001b[0m \u001b[38;5;28;01mif\u001b[39;00m file \u001b[38;5;129;01min\u001b[39;00m {\u001b[38;5;241m0\u001b[39m, \u001b[38;5;241m1\u001b[39m, \u001b[38;5;241m2\u001b[39m}:\n\u001b[0;32m    304\u001b[0m     \u001b[38;5;28;01mraise\u001b[39;00m \u001b[38;5;167;01mValueError\u001b[39;00m(\n\u001b[0;32m    305\u001b[0m         \u001b[38;5;124mf\u001b[39m\u001b[38;5;124m\"\u001b[39m\u001b[38;5;124mIPython won\u001b[39m\u001b[38;5;124m'\u001b[39m\u001b[38;5;124mt let you open fd=\u001b[39m\u001b[38;5;132;01m{\u001b[39;00mfile\u001b[38;5;132;01m}\u001b[39;00m\u001b[38;5;124m by default \u001b[39m\u001b[38;5;124m\"\u001b[39m\n\u001b[0;32m    306\u001b[0m         \u001b[38;5;124m\"\u001b[39m\u001b[38;5;124mas it is likely to crash IPython. If you know what you are doing, \u001b[39m\u001b[38;5;124m\"\u001b[39m\n\u001b[0;32m    307\u001b[0m         \u001b[38;5;124m\"\u001b[39m\u001b[38;5;124myou can use builtins\u001b[39m\u001b[38;5;124m'\u001b[39m\u001b[38;5;124m open.\u001b[39m\u001b[38;5;124m\"\u001b[39m\n\u001b[0;32m    308\u001b[0m     )\n\u001b[1;32m--> 310\u001b[0m \u001b[38;5;28;01mreturn\u001b[39;00m io_open(file, \u001b[38;5;241m*\u001b[39margs, \u001b[38;5;241m*\u001b[39m\u001b[38;5;241m*\u001b[39mkwargs)\n",
      "\u001b[1;31mFileNotFoundError\u001b[0m: [Errno 2] No such file or directory: 'string.txt'"
     ]
    }
   ],
   "source": [
    "#definition of the function that reverse ths string\n",
    "def reverse(string):\n",
    "\n",
    "    #initialisation\n",
    "    length = len(string)\n",
    "    reverseString = ''\n",
    "\n",
    "    #reverse the string\n",
    "    for char in string:\n",
    "        reverseString = char + reverseString\n",
    "    \n",
    "    #return the reverse string\n",
    "    return reverseString\n",
    "\n",
    "#opening the file then closing ounce read.\n",
    "readingFile = open('Assets/string.txt', 'r')\n",
    "string = readingFile.read()\n",
    "readingFile.close()\n",
    "\n",
    "#call the function\n",
    "reverseString = reverse(string)\n",
    "\n",
    "#output, on the screen and in a file   \n",
    "print(reverseString)\n",
    "\n",
    "writingFile = open('reverseString.txt', 'w')\n",
    "writingFile.write(reverseString)\n",
    "writingFile.close()\n"
   ]
  }
 ],
 "metadata": {
  "kernelspec": {
   "display_name": "Python 3 (ipykernel)",
   "language": "python",
   "name": "python3"
  },
  "language_info": {
   "codemirror_mode": {
    "name": "ipython",
    "version": 3
   },
   "file_extension": ".py",
   "mimetype": "text/x-python",
   "name": "python",
   "nbconvert_exporter": "python",
   "pygments_lexer": "ipython3",
   "version": "3.9.7"
  }
 },
 "nbformat": 4,
 "nbformat_minor": 5
}
