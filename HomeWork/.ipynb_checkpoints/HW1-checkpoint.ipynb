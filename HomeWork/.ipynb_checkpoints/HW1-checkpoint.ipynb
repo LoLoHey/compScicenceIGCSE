{
 "cells": [
  {
   "cell_type": "markdown",
   "id": "c19cc697-9e46-4902-9ec7-3775436191a8",
   "metadata": {},
   "source": [
    "### 1 Factorial\n",
    "\n",
    "#### a) Write a simple algorithm to calculate the factorial of a number.\n",
    "Reminder: n! = 1*2*3*4*...*n\n",
    "\n",
    "#### b) Draw a flowchart of your algorithm\n",
    "\n",
    "\n",
    "#### c) Translate this algorithm in Pearson pseudocode.\n",
    "\n",
    "#### d)  Translate your pseudo code into functional Python code.\n",
    "\n",
    "#### Marking Scheme:\n",
    "\n",
    "#### a) Factorial\n",
    "Ask the user a positive integer => n \\\n",
    "Calculate the factorial: $ factorial = 1*2*3*…*(n-1)*n $ \\\n",
    "Show the result as the factorial.n \\\n",
    "Draw a flow chart of your algorithm \n",
    "\n",
    "#### b) Factorial\n",
    "Here is an example of a flowchart made with https://app.diagrams.net/.\n",
    "\n",
    "<img src=\"Assets/HW1_flowchart.jpg\" width=\"200\">\n",
    "\n",
    "#### c) Pearson pseudocode:\n",
    "\n",
    "**Using a while loop:**\n",
    "\n",
    "```\n",
    "SET number to -1\n",
    "\n",
    "WHILE number < 0 DO \n",
    "    SEND ‘Please enter a number’ TO DISPLAY\n",
    "    READ number FROM DISPLAY\n",
    "END WHILE\n",
    "\n",
    "SET counter TO 0\n",
    "SET factorial TO 1\n",
    "\n",
    "WHILE counter < number DO\n",
    "\tcounter = counter + 1\n",
    "\tfactorial = factorial * counter\n",
    "END WHILE\n",
    "\n",
    "SEND ‘the factorial is: ‘, factorial TO DISPLAY'\n",
    "```\n",
    "\n",
    "**Using a for loop:**\n",
    "```\n",
    "SET number to -1\n",
    "\n",
    "WHILE number < 0 DO\n",
    "    SEND ‘Please enter a number’ TO DISPLAY\n",
    "    READ number FROM DISPLAY\n",
    "END WHILE\n",
    "\n",
    "SET factorial TO 1\n",
    "\n",
    "FOR counter TO number + 1 DO\n",
    "\tfactorial = factorial * counter\n",
    "END FOR\n",
    "\n",
    "SEND ‘the factorial is: ‘, factorial TO DISPLAY\n",
    "```\n",
    "\n",
    "**Using a recursive function:**\n",
    "```\n",
    "FUNCTION Factorial(number)\n",
    "BEGIN FUNCTION\n",
    "    IF number <= 1 THEN\n",
    "        RETURN  1\n",
    "    ELSE\n",
    "\t\tRETURN number*Factorial(number-1)\n",
    "\tEND IF\n",
    "END FUNCTION\n",
    "\n",
    "SET number to -1\n",
    "\n",
    "WHILE number < 0 DO\n",
    "    SEND ‘Please enter a number’ TO DISPLAY\n",
    "    READ number FROM DISPLAY\n",
    "END WHILE\n",
    "\n",
    "fact = Factorial(number)\n",
    "\n",
    "\n",
    "SEND ‘the factorial is: ‘, fact TO DISPLAY\n",
    "```\n"
   ]
  },
  {
   "cell_type": "markdown",
   "id": "3426fc5b-2610-44c9-bde3-f326f81dc429",
   "metadata": {},
   "source": [
    "#### d.i) Python code\n",
    "\n",
    "**Using a while loop:**\n"
   ]
  },
  {
   "cell_type": "code",
   "execution_count": 13,
   "id": "39d0d9e7-1aef-4bbe-b333-066a135e99d9",
   "metadata": {},
   "outputs": [
    {
     "name": "stdin",
     "output_type": "stream",
     "text": [
      "Please enter a positive integer:  3\n"
     ]
    },
    {
     "name": "stdout",
     "output_type": "stream",
     "text": [
      "3 ! =  6\n"
     ]
    }
   ],
   "source": [
    "#Initialisation\n",
    "num = -1\n",
    "\n",
    "#Ask the user a positive integer + validation\n",
    "while num < 0:\n",
    "    num = int(input('Please enter a positive integer: '))\n",
    "\n",
    "counter = 0\n",
    "factorial = 1\n",
    "\n",
    "#Calculate the factorial\n",
    "while counter < num:\n",
    "    counter = counter + 1\n",
    "    factorial = factorial * counter\n",
    "\n",
    "#Output the factorial on the screen\n",
    "print(num,'! = ', factorial)\n"
   ]
  },
  {
   "cell_type": "markdown",
   "id": "165301f3-a155-431d-9dbb-6d6fe8db57b4",
   "metadata": {},
   "source": [
    "#### d.ii) Python code\n",
    "\n",
    "**Using a for loop:**"
   ]
  },
  {
   "cell_type": "code",
   "execution_count": 14,
   "id": "5e6f1935-7c1a-4e70-9008-6b200c5b3805",
   "metadata": {},
   "outputs": [
    {
     "name": "stdin",
     "output_type": "stream",
     "text": [
      "Please enter a positive integer:  3\n"
     ]
    },
    {
     "name": "stdout",
     "output_type": "stream",
     "text": [
      "3 ! =  6\n"
     ]
    }
   ],
   "source": [
    "#Initialisation\n",
    "num = -1\n",
    "\n",
    "#Ask the user a positive integer + validation\n",
    "while num < 0:\n",
    "    num = int(input('Please enter a positive integer: '))\n",
    "\n",
    "factorial = 1\n",
    "\n",
    "#Calculate the factorial\n",
    "for counter in range(1, num + 1):\n",
    "    factorial = factorial*counter\n",
    "\n",
    "#Output the factorial on the screen\n",
    "print(num,'! = ', factorial)"
   ]
  },
  {
   "cell_type": "markdown",
   "id": "8587f463-9657-41ef-8118-0b432eafe163",
   "metadata": {},
   "source": [
    "#### d.iii) Python code\n",
    "\n",
    "**Using a recursive function:**\n"
   ]
  },
  {
   "cell_type": "code",
   "execution_count": 20,
   "id": "0c6b2199-2bce-4086-bdea-aef30141bb90",
   "metadata": {},
   "outputs": [
    {
     "name": "stdin",
     "output_type": "stream",
     "text": [
      "Please enter a positive integer:  3\n"
     ]
    },
    {
     "name": "stdout",
     "output_type": "stream",
     "text": [
      "3 ! =  6\n"
     ]
    }
   ],
   "source": [
    "#Definition of a function that calculate the factorial\n",
    "def factorial(n):\n",
    "    if n <= 1:\n",
    "        return 1\n",
    "    else:\n",
    "        return n*factorial(n-1) #Here the function call itself (recursive)\n",
    "\n",
    "#Initialisation\n",
    "num = -1\n",
    "\n",
    "#Ask the user a positive integer + validation\n",
    "while num < 0:\n",
    "    num = int(input('Please enter a positive integer: '))\n",
    "\n",
    "#Output the factorial on the screen\n",
    "print(num, '! = ', factorial(num))"
   ]
  }
 ],
 "metadata": {
  "kernelspec": {
   "display_name": "Python 3 (ipykernel)",
   "language": "python",
   "name": "python3"
  },
  "language_info": {
   "codemirror_mode": {
    "name": "ipython",
    "version": 3
   },
   "file_extension": ".py",
   "mimetype": "text/x-python",
   "name": "python",
   "nbconvert_exporter": "python",
   "pygments_lexer": "ipython3",
   "version": "3.12.4"
  }
 },
 "nbformat": 4,
 "nbformat_minor": 5
}
