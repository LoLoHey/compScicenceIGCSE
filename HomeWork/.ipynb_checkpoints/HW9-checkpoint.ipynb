{
 "cells": [
  {
   "cell_type": "markdown",
   "id": "219498a3-4c0b-4a9d-af01-3a7c0903eac8",
   "metadata": {},
   "source": [
    "### a)\tSlicing strings\n",
    "Take the following Python code that stores a string:\\\n",
    "str = 'X-DSPAM-Confidence: 0.8475'\\\n",
    "Use find and string slicing to extract the portion of the string after the colon character and then use the float function to convert the extracted string into a floating point number.\n",
    "\n",
    "\n",
    "### b)\tSearching for an Element in a Sorted List (Binary Search)\n",
    "\n",
    "Input: A sorted list of names and a target value\\\n",
    "Process: Divide the list in half repeatedly until the target is found or the list is empty.\\\n",
    "Output: The index of the target value in the list, or “not found”"
   ]
  },
  {
   "cell_type": "markdown",
   "id": "7fac6314-2d79-4180-9b22-592e3b0d77d3",
   "metadata": {},
   "source": [
    "### a)\tSlicing strings\n",
    "\n",
    "**Flowchart:**\n",
    "\n",
    "**Pseudocode:**\n",
    "\n",
    "**Python:**"
   ]
  },
  {
   "cell_type": "code",
   "execution_count": 1,
   "id": "88256ca2-5229-4e42-a8d5-ebb1e591a523",
   "metadata": {},
   "outputs": [
    {
     "name": "stdout",
     "output_type": "stream",
     "text": [
      "0.8475 <class 'float'>\n"
     ]
    }
   ],
   "source": [
    "string = 'X-DSPAM-Confidence: 0.8475'\n",
    "\n",
    "#Get the position of ':'\n",
    "position = string.find(':') \n",
    "\n",
    "#Slice the string from the position + 1\n",
    "value = float(string[position + 1:])\n",
    "\n",
    "#Print the value and the type of variable to check it\n",
    "print(value, type(value))\n"
   ]
  },
  {
   "cell_type": "markdown",
   "id": "d666fea0-ee4f-4932-a689-4102ade0212b",
   "metadata": {},
   "source": [
    "### b)\tSearching for an Element in a Sorted List (Binary Search)\n",
    "\n",
    "**Flowchart:**\n",
    "\n",
    "<img src=\"Assets/HW9B.jpg\" width=\"400\">\n",
    "\n",
    "**Pseudocode:**\n",
    "\n",
    "```\n",
    "#function binary search\r\n",
    "FUNCTION binary_search(list, element)\r\n",
    "BEGIN FUNCTION\r\n",
    "\tSET up_index TO LENGTH(list)\r\n",
    "\tSET low_index TO 0\r\n",
    "\tWHILE up_index >= low_index DO\r\n",
    "\t\tSET median TO (up_index + low_index) DIV 2\r\n",
    "\tSET median_elt TO list_elements[median]\r\n",
    "\t\r\n",
    "\tIF target = median_elt THEN\r\n",
    "\t\tRETURN median\r\n",
    "\tEND IF\r\n",
    "\t\r\n",
    "\tIF target > median_elt THEN\r\n",
    "\t\tlow_index = median + 1\r\n",
    "\tELSE\r\n",
    "\t\tup_index = median – 1\r\n",
    "\tEND IF\r\n",
    "\t#target no found\r\n",
    "\tRETURN -1\t\r\n",
    "END FUNCTION\r\n",
    "\r\n",
    "READ names.txt list_names\r\n",
    "SEND Enter a name to search TO DISPLAY\r\n",
    "RECEIVE name FROM KEYBOARD\r\n",
    "\r\n",
    "SET index TO binary_search(list_names, name)\r\n",
    "IF index <> -1 THEN\r\n",
    "\tSEND ‘name’ found at ‘index’ TO DISPLAY\r\n",
    "ELSE\r\n",
    "\tSEND ‘name’ not foudh TO DISPLAY\r\n",
    "ENDIFND orderList TO DISPLAY\r\n",
    "\n",
    "\n",
    "```\n",
    "\n",
    "**Pyhton:**"
   ]
  },
  {
   "cell_type": "code",
   "execution_count": 12,
   "id": "65f129f6-0be8-4392-990c-b954bea9ae6f",
   "metadata": {},
   "outputs": [
    {
     "name": "stdin",
     "output_type": "stream",
     "text": [
      "Please enter a name:  lauren\n"
     ]
    },
    {
     "name": "stdout",
     "output_type": "stream",
     "text": [
      "Found lauren in the list at the index 131\n"
     ]
    }
   ],
   "source": [
    "#function bunary search\n",
    "def binary_search(list_elements :list, target :str) -> int:\n",
    "    #Initialize the upper bound an lower bound\n",
    "    up_index: int = len(list_elements) - 1\n",
    "    low_index: int = 0\n",
    "\n",
    "    while up_index >= low_index:\n",
    "        #Get the median position and median name\n",
    "        median: int = (up_index + low_index) // 2\n",
    "        median_element: str = list_elements[median].lower()\n",
    "        \n",
    "        #check where is the ellement compare to the median\n",
    "        if target.lower() == median_element:\n",
    "            #Found the name so return the index\n",
    "            return median\n",
    "        elif target.lower() > median_element:\n",
    "            low_index = median + 1\n",
    "        elif target.lower() < median_element:\n",
    "            up_index = median - 1\n",
    "    \n",
    "    #Not in the list, so return -1\n",
    "    return -1  \n",
    "\n",
    "\n",
    "#get the list of names\n",
    "#open file and get the list of names\n",
    "with open('names.txt') as my_file:\n",
    "    list_names: list = my_file.read().split(',')\n",
    "\n",
    "#some elements are not sorted in the list.\n",
    "list_names.sort()\n",
    "\n",
    "#ask the user the name to look for.\n",
    "name: str = input('Please enter a name: ')\n",
    "\n",
    "#for name in list_names:\n",
    "index = binary_search(list_names,name)\n",
    "if index != -1:\n",
    "    print(f'Found {name} in the list at the index {index}')\n",
    "else:\n",
    "    print(f'{name} not in the list')"
   ]
  },
  {
   "cell_type": "code",
   "execution_count": null,
   "id": "202ae11a-137e-45e3-a67b-9fe76fd4ccc2",
   "metadata": {},
   "outputs": [],
   "source": []
  }
 ],
 "metadata": {
  "kernelspec": {
   "display_name": "Python 3 (ipykernel)",
   "language": "python",
   "name": "python3"
  },
  "language_info": {
   "codemirror_mode": {
    "name": "ipython",
    "version": 3
   },
   "file_extension": ".py",
   "mimetype": "text/x-python",
   "name": "python",
   "nbconvert_exporter": "python",
   "pygments_lexer": "ipython3",
   "version": "3.9.7"
  }
 },
 "nbformat": 4,
 "nbformat_minor": 5
}
