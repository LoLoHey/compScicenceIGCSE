{
 "cells": [
  {
   "cell_type": "markdown",
   "id": "56582670-60ef-47f2-ae4f-196ea6c8c52a",
   "metadata": {},
   "source": [
    "### a)\tThe Caesar Cipher\n",
    "Problem: Write a program to encrypt or decrypt the Caesar cipher. \\\n",
    "Input: a message to encrypt/decrypt + the key \\\n",
    "Process: Shift each character by the value given by the key. Reverse the shift if the message is to be decrypted. \\\n",
    "Output: the encrypted/decrypted message.\n"
   ]
  },
  {
   "cell_type": "markdown",
   "id": "982adc11-12f6-4445-8948-89220671226f",
   "metadata": {},
   "source": [
    "### Proposed solution\n",
    "\n",
    "### a)\tThe Caesar Cipher:\n",
    "\n",
    "**Flowchart:**\n",
    "\n",
    "Provided page 147.\n",
    "\n",
    "**Pseudocode:**\n",
    "\n",
    "```\n",
    "#pseudo code for the python equivalent functions ord() and chr().\n",
    "\n",
    "FUNCTION ord(char)\n",
    "BEGIN FUNCTION\n",
    "\t#A two-dimensional array containing all of the characters with their denary codes\n",
    "\tSET arrayAscii TO [[“!”][33]. [“””][34], …[“z”][122]]\n",
    "\tFOR index FROM 0 TO LENGTH(arrayAscii) – 1 DO\n",
    "\t\tIF char = arrayAscii[index, 0] THEN\n",
    "\t\t\tSET code TO arrayAscii[index, 1]\n",
    "\t\tEND IF\n",
    "\tEND FOR\n",
    "RETURN code\n",
    "END FUNCTION\n",
    "\n",
    "FUNCTION chr(code)\n",
    "BEGIN FUNCTION\n",
    "\t#A two-dimensional array containing all of the characters with their denary codes\n",
    "\tSET arrayAscii TO [[“!”][33]. [“””][34], …[“z”][122]]\n",
    "\tFOR index FROM 0 TO LENGTH(arrayAscii) – 1 DO\n",
    "\t\tIF code = arrayAscii[index, 1] THEN\n",
    "\t\t\tSET char TO arrayAscii[index, 0]\n",
    "\t\tEND IF\n",
    "\tEND FOR\n",
    "RETURN char\r\n",
    "END FUNCTION\r\n",
    "\n",
    "#Main program\n",
    "READ message.dat text\n",
    "RECEIVE encryption FROM (BOOLEAN) KEYBOARD\n",
    "RECEIVE key FROM (INTEGER) KEYBOARD\n",
    "\n",
    "IF encryption = False THEN\n",
    "\tSET key TO –KEY\n",
    "END IF\n",
    "\n",
    "SET caesarText TO ‘’\n",
    "#Start the main loop\n",
    "FOR EACH char FROM text DO\n",
    "\tSET code TO ord(char)\n",
    "    \n",
    "    IF 97 <= code <= 122 THEN\n",
    "        SET code TO (code + key – 97) MOD 26  + 97\n",
    "    ENDIF\n",
    "\n",
    "\tIF 65 <= code <= 90 THEN\n",
    "\t\tSET code TO (code + key – 65) MOD 26  + 65\n",
    "\tENDIF\n",
    "\n",
    "\tSET caesarText TO caesarText + chr(code)\n",
    "\n",
    "END FOREACH\n",
    "\n",
    "SEND caesarText TO DISPLAY\n",
    "URN char\n",
    "END FUNCTION\n"
   ]
  },
  {
   "cell_type": "code",
   "execution_count": 2,
   "id": "88256ca2-5229-4e42-a8d5-ebb1e591a523",
   "metadata": {},
   "outputs": [
    {
     "name": "stdin",
     "output_type": "stream",
     "text": [
      "Input E for Encryption or D for Decryption:  d\n",
      "What is the Ceasar key:  1\n"
     ]
    },
    {
     "name": "stdout",
     "output_type": "stream",
     "text": [
      "Nz tfdsfu nfttbhf\n",
      "My secret message\n"
     ]
    }
   ],
   "source": [
    "import caesar\n",
    "\n",
    "#Is it an encryption or decryption?\n",
    "encryption = caesar.get_encrypt_or_decrypt()\n",
    "\n",
    "#Get the Caesar key\n",
    "key = caesar.get_key()\n",
    "\n",
    "#if decryption one can just apply the encryption algo with the opposite key\n",
    "if not encryption: key = -key\n",
    "\n",
    "#Get the text from the file\n",
    "with open(\"message.dat\") as my_file:\n",
    "    text = my_file.read()\n",
    "\n",
    "#call the main function of the Caesar cipher\n",
    "encrypted = caesar.caesar(text,key)\n",
    "\n",
    "#output\n",
    "print(encrypted)"
   ]
  },
  {
   "cell_type": "code",
   "execution_count": null,
   "id": "1c8118ad-633d-4256-b119-669013f0aa04",
   "metadata": {},
   "outputs": [],
   "source": []
  }
 ],
 "metadata": {
  "kernelspec": {
   "display_name": "Python 3 (ipykernel)",
   "language": "python",
   "name": "python3"
  },
  "language_info": {
   "codemirror_mode": {
    "name": "ipython",
    "version": 3
   },
   "file_extension": ".py",
   "mimetype": "text/x-python",
   "name": "python",
   "nbconvert_exporter": "python",
   "pygments_lexer": "ipython3",
   "version": "3.9.7"
  }
 },
 "nbformat": 4,
 "nbformat_minor": 5
}
