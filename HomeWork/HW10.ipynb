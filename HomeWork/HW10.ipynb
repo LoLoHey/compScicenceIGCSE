{
 "cells": [
  {
   "cell_type": "markdown",
   "id": "b8860c45-464d-4748-b825-8dad3692b5b3",
   "metadata": {},
   "source": [
    "### a)\tHANGMAN\n",
    "Game Development: Interactive Console Game HANGMAN \\\n",
    "Exercise: \\\n",
    "Write a simple text-based \"Hangman\" game. \\\n",
    "Randomly select a word from a predefined list. \\\n",
    "Allow the player to guess letters, with limited attempts. \\\n",
    "Challenge: Allow multiplayer functionality or a score system"
   ]
  },
  {
   "cell_type": "markdown",
   "id": "9cfefbb8-039c-4800-834e-97f2e367d777",
   "metadata": {},
   "source": [
    "### a)\tHANGMAN\n",
    "\n",
    "**Flowchart:**\n",
    "\n",
    "<img src=\"Assets/HW10.jpg\" width=\"400\">\n",
    "\n",
    "**Python:**"
   ]
  },
  {
   "cell_type": "code",
   "execution_count": 12,
   "id": "65f129f6-0be8-4392-990c-b954bea9ae6f",
   "metadata": {},
   "outputs": [
    {
     "name": "stdin",
     "output_type": "stream",
     "text": [
      "Please enter a name:  lauren\n"
     ]
    },
    {
     "name": "stdout",
     "output_type": "stream",
     "text": [
      "Found lauren in the list at the index 131\n"
     ]
    }
   ],
   "source": [
    "#function bunary search\n",
    "def binary_search(list_elements :list, target :str) -> int:\n",
    "    #Initialize the upper bound an lower bound\n",
    "    up_index: int = len(list_elements) - 1\n",
    "    low_index: int = 0\n",
    "\n",
    "    while up_index >= low_index:\n",
    "        #Get the median position and median name\n",
    "        median: int = (up_index + low_index) // 2\n",
    "        median_element: str = list_elements[median].lower()\n",
    "        \n",
    "        #check where is the ellement compare to the median\n",
    "        if target.lower() == median_element:\n",
    "            #Found the name so return the index\n",
    "            return median\n",
    "        elif target.lower() > median_element:\n",
    "            low_index = median + 1\n",
    "        elif target.lower() < median_element:\n",
    "            up_index = median - 1\n",
    "    \n",
    "    #Not in the list, so return -1\n",
    "    return -1  \n",
    "\n",
    "\n",
    "#get the list of names\n",
    "#open file and get the list of names\n",
    "with open('names.txt') as my_file:\n",
    "    list_names: list = my_file.read().split(',')\n",
    "\n",
    "#some elements are not sorted in the list.\n",
    "list_names.sort()\n",
    "\n",
    "#ask the user the name to look for.\n",
    "name: str = input('Please enter a name: ')\n",
    "\n",
    "#for name in list_names:\n",
    "index = binary_search(list_names,name)\n",
    "if index != -1:\n",
    "    print(f'Found {name} in the list at the index {index}')\n",
    "else:\n",
    "    print(f'{name} not in the list')"
   ]
  },
  {
   "cell_type": "code",
   "execution_count": null,
   "id": "202ae11a-137e-45e3-a67b-9fe76fd4ccc2",
   "metadata": {},
   "outputs": [],
   "source": []
  },
  {
   "cell_type": "code",
   "execution_count": 1,
   "id": "27968a4b-920a-4784-a430-322a52ffc93d",
   "metadata": {},
   "outputs": [
    {
     "name": "stdout",
     "output_type": "stream",
     "text": [
      "|||||||||||||||||||||||||||||||||\n",
      "     Welcome to HANGMAN!\n",
      "|||||||||||||||||||||||||||||||||\n",
      "\n",
      "Try to guess the word before the hangman is complete.\n",
      "You can guess only one letter at time.\n",
      "\n",
      "\n",
      "  +---+\n",
      "  |   |\n",
      "      |\n",
      "      |\n",
      "      |\n",
      "      |\n",
      "=========\n",
      "\n",
      "Try to guess that word:\n",
      "___\n",
      "\n",
      "The letters you already guessed: \n"
     ]
    },
    {
     "name": "stdin",
     "output_type": "stream",
     "text": [
      "Please enter a letter:  e\n"
     ]
    },
    {
     "name": "stdout",
     "output_type": "stream",
     "text": [
      "\n",
      "  +---+\n",
      "  |   |\n",
      "  O   |\n",
      "      |\n",
      "      |\n",
      "      |\n",
      "=========\n",
      "No such letter\n",
      "\n",
      "___\n",
      "The letters you already guessed: e\n"
     ]
    },
    {
     "name": "stdin",
     "output_type": "stream",
     "text": [
      "Please enter a letter:  i\n"
     ]
    },
    {
     "name": "stdout",
     "output_type": "stream",
     "text": [
      "\n",
      "  +---+\n",
      "  |   |\n",
      "  O   |\n",
      "  |   |\n",
      "      |\n",
      "      |\n",
      "=========\n",
      "No such letter\n",
      "\n",
      "___\n",
      "The letters you already guessed: e,i\n"
     ]
    },
    {
     "name": "stdin",
     "output_type": "stream",
     "text": [
      "Please enter a letter:  a\n"
     ]
    },
    {
     "name": "stdout",
     "output_type": "stream",
     "text": [
      "a__\n",
      "The letters you already guessed: e,i,a\n"
     ]
    },
    {
     "name": "stdin",
     "output_type": "stream",
     "text": [
      "Please enter a letter:  s\n"
     ]
    },
    {
     "name": "stdout",
     "output_type": "stream",
     "text": [
      "\n",
      "  +---+\n",
      "  |   |\n",
      "  O   |\n",
      " /|   |\n",
      "      |\n",
      "      |\n",
      "=========\n",
      "No such letter\n",
      "\n",
      "a__\n",
      "The letters you already guessed: e,i,a,s\n"
     ]
    },
    {
     "name": "stdin",
     "output_type": "stream",
     "text": [
      "Please enter a letter:  r\n"
     ]
    },
    {
     "name": "stdout",
     "output_type": "stream",
     "text": [
      "\n",
      "  +---+\n",
      "  |   |\n",
      "  O   |\n",
      " /|\\  |\n",
      "      |\n",
      "      |\n",
      "=========\n",
      "No such letter\n",
      "\n",
      "a__\n",
      "The letters you already guessed: e,i,a,s,r\n"
     ]
    },
    {
     "name": "stdin",
     "output_type": "stream",
     "text": [
      "Please enter a letter:  l\n"
     ]
    },
    {
     "name": "stdout",
     "output_type": "stream",
     "text": [
      "\n",
      "  +---+\n",
      "  |   |\n",
      "  O   |\n",
      " /|\\  |\n",
      " /    |\n",
      "      |\n",
      "=========\n",
      "No such letter\n",
      "\n",
      "a__\n",
      "The letters you already guessed: e,i,a,s,r,l\n"
     ]
    },
    {
     "name": "stdin",
     "output_type": "stream",
     "text": [
      "Please enter a letter:  t\n"
     ]
    },
    {
     "name": "stdout",
     "output_type": "stream",
     "text": [
      "\n",
      "  +---+\n",
      "  |   |\n",
      "  O   |\n",
      " /|\\  |\n",
      " / \\  |\n",
      "      |\n",
      "=========\n",
      "No such letter\n",
      "\n",
      "DEAD! sorry, the word to find was any\n",
      "\n",
      "Your score is 0 / 1\n",
      "\n"
     ]
    },
    {
     "name": "stdin",
     "output_type": "stream",
     "text": [
      "Do you want to play again (Y) or anything to quit ():  \n"
     ]
    },
    {
     "name": "stdout",
     "output_type": "stream",
     "text": [
      "\n",
      "See you next time\n"
     ]
    }
   ],
   "source": [
    "from random import choice\n",
    "from hangman import HANGMANPICS\n",
    "    \n",
    "#get the list from the file\n",
    "list_words: list = []\n",
    "with open('Assets/words.txt', 'r') as file:\n",
    "    for line in file:\n",
    "        list_words.append(line.rstrip('\\n').lower())\n",
    "\n",
    "#return 1 if won, return 0 if lost\n",
    "def hangman() -> int:\n",
    "    #get a random word from the list        \n",
    "    word_to_guess: str = choice(list_words)\n",
    "    #print(word_to_guess)\n",
    "\n",
    "    #Initialisation\n",
    "    life: int = 0\n",
    "    print(HANGMANPICS[life])\n",
    "    print('')\n",
    "    guessed_word: list = ['_' for char in word_to_guess]\n",
    "    guessed_letters: list = []\n",
    "\n",
    "    #print all the element in the list.\n",
    "    print('Try to guess that word:')\n",
    "    print(*guessed_word,sep='')\n",
    "    print('')   \n",
    "\n",
    "\n",
    "    while True:\n",
    "        print('The letters you already guessed: ', end='')\n",
    "        print(*guessed_letters,sep=',')\n",
    "        #get the new letter from the player\n",
    "        guessed_char: str = input('Please enter a letter: ').lower()\n",
    "        guessed_letters.append(guessed_char)\n",
    "        #replace the _ by the letter alredy guessed\n",
    "        guessed_word = [char if char in guessed_letters else \"_\" for char in word_to_guess]\n",
    "        \n",
    "        #check if win\n",
    "        if '_' not in guessed_word:\n",
    "            print('WIN!!! You gor the word!')\n",
    "            return 1 \n",
    "        #lose a life if the guess is wrong\n",
    "        if guessed_char not in word_to_guess:\n",
    "            life += 1\n",
    "            print(HANGMANPICS[life])\n",
    "            print('No such letter')\n",
    "            print('')\n",
    "            #lost the game\n",
    "            if life == 6:\n",
    "                print(f'DEAD! sorry, the word to find was {word_to_guess}')\n",
    "                return 0\n",
    "\n",
    "        print(*guessed_word,sep='')\n",
    "\n",
    "print('|||||||||||||||||||||||||||||||||')\n",
    "print('     Welcome to HANGMAN!')\n",
    "print('|||||||||||||||||||||||||||||||||')\n",
    "print('')\n",
    "print('Try to guess the word before the hangman is complete.')\n",
    "print('You can guess only one letter at a time.')\n",
    "print('')\n",
    "\n",
    "#Init of the game\n",
    "score: int = 0\n",
    "party_played: int = 0\n",
    "\n",
    "play: bool = True\n",
    "\n",
    "while play:\n",
    "    party_played += 1\n",
    "    score += hangman()\n",
    "    \n",
    "    print('')\n",
    "    print(f'Your score is {score} / {party_played}')\n",
    "    print('')\n",
    "    next_game = input('Do you want to play again (Y) or anything to quit (): ').lower()\n",
    "\n",
    "    if next_game != 'y': play = False\n",
    "    \n",
    "print('')\n",
    "print('See you next time')\n",
    "\n"
   ]
  },
  {
   "cell_type": "code",
   "execution_count": null,
   "id": "34f11167-fb85-4000-84d2-143216304a2f",
   "metadata": {},
   "outputs": [],
   "source": []
  }
 ],
 "metadata": {
  "kernelspec": {
   "display_name": "Python 3 (ipykernel)",
   "language": "python",
   "name": "python3"
  },
  "language_info": {
   "codemirror_mode": {
    "name": "ipython",
    "version": 3
   },
   "file_extension": ".py",
   "mimetype": "text/x-python",
   "name": "python",
   "nbconvert_exporter": "python",
   "pygments_lexer": "ipython3",
   "version": "3.9.7"
  }
 },
 "nbformat": 4,
 "nbformat_minor": 5
}
