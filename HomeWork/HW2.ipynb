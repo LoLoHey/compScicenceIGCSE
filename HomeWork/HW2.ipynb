{
 "cells": [
  {
   "cell_type": "markdown",
   "id": "c19cc697-9e46-4902-9ec7-3775436191a8",
   "metadata": {},
   "source": [
    "### Checking for Prime Numbers\n",
    "\n",
    "Here is an algorithm to check if a given number is prime or not:\n",
    "1. If the number is 1 or less, it's not prime.\n",
    "2. Iterate from 2 to the square root of the number: \n",
    "    - If the number is divisible by the current iteration, it is not prime.\n",
    "3. If the loop completes without finding a divisor, the number is prime.\n",
    "\n",
    "#### a) Draw a flow chart of this algorithm\n",
    "\n",
    "#### b) Translate this algorithm in Pearson pseudocode.\n",
    "\n",
    "#### c) Translate your pseudocode into functional Python code.\n",
    "\n",
    "### Proposed solution\n",
    "\n",
    "#### a) Flowchart\n",
    "\n",
    "<img src=\"Assets/HW2_flowchart.jpg\" width=\"400\">\n",
    "\n",
    "#### b) Pseudocode\n",
    "\n",
    "```\n",
    "SEND ‘ Please enter a number’ TO DISPLAY\n",
    "RECEIVE number FROM DISPLAY\n",
    "\n",
    "IF NUMBER <= 1 THEN\n",
    "\tSEND number, ‘ is not prime’ TO DISPLAY\n",
    "ELSE\n",
    "    SET squareRoot TO number^0.5\n",
    "    SET divider = 2\n",
    "    SET prime TO TRUE\n",
    "\n",
    "    WHILE prime AND divider < squareRoot\n",
    "    \tSET remainder TO number % divider\n",
    "        IF REMAINDER = 0 THEN\n",
    "    \t\tSET prime TO FALSE\n",
    "    \tELSE\n",
    "    \t\tSET divider TO divider + 1\n",
    "    \tENDIF\n",
    "    END WHILE\n",
    "    IF prime = TRUE THEN\n",
    "    \tSEND number, ‘ is  prime’ TO DISPLAY\n",
    "    ELSE\n",
    "    \tSEND number, ‘ is not prime’ TO DISPLAY\n",
    "    ENDIF\n",
    "ENDIF\n",
    "```\n"
   ]
  },
  {
   "cell_type": "markdown",
   "id": "3426fc5b-2610-44c9-bde3-f326f81dc429",
   "metadata": {},
   "source": [
    "#### c) Python code\n",
    "\n"
   ]
  },
  {
   "cell_type": "code",
   "execution_count": 1,
   "id": "39d0d9e7-1aef-4bbe-b333-066a135e99d9",
   "metadata": {},
   "outputs": [
    {
     "name": "stdin",
     "output_type": "stream",
     "text": [
      "Please enter a number:  2\n"
     ]
    },
    {
     "name": "stdout",
     "output_type": "stream",
     "text": [
      "2 is prime\n"
     ]
    }
   ],
   "source": [
    "#ask a number to the user\n",
    "number = int(input('Please enter a number: '))\n",
    "\n",
    "if number <= 1:\n",
    "    print(number, 'is not prime')\n",
    "else:\n",
    "    #Initialisation of the variables used in the loop\n",
    "    squareRoot = number**0.5\n",
    "    divider = 2\n",
    "    prime = True\n",
    "    \n",
    "    #we check all the possible factor of the number from 2 to (number)^0.5\n",
    "    while prime and divider < squareRoot :\n",
    "        remainder = number % divider\n",
    "        #if remainder is 0, it means that divider is a factor.\n",
    "        if remainder == 0: \n",
    "            #prime become false and we exit the loop.\n",
    "            prime = False\n",
    "        else:\n",
    "            #check the next possible factor.\n",
    "            divider = divider + 1\n",
    "\n",
    "    #output prime or not prime\n",
    "    if prime == True:\n",
    "        print(number, 'is prime')\n",
    "    else:\n",
    "        print(number, 'is not prime')\n",
    "\n"
   ]
  },
  {
   "cell_type": "code",
   "execution_count": null,
   "id": "7ce434dc-7b15-4380-b645-ac7849c72123",
   "metadata": {},
   "outputs": [],
   "source": []
  }
 ],
 "metadata": {
  "kernelspec": {
   "display_name": "Python 3 (ipykernel)",
   "language": "python",
   "name": "python3"
  },
  "language_info": {
   "codemirror_mode": {
    "name": "ipython",
    "version": 3
   },
   "file_extension": ".py",
   "mimetype": "text/x-python",
   "name": "python",
   "nbconvert_exporter": "python",
   "pygments_lexer": "ipython3",
   "version": "3.12.4"
  }
 },
 "nbformat": 4,
 "nbformat_minor": 5
}
