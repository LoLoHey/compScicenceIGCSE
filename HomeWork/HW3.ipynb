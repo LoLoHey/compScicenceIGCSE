{
 "cells": [
  {
   "cell_type": "markdown",
   "id": "a495bf8e-dede-4d58-b382-86c4b3222ff0",
   "metadata": {},
   "source": [
    "### a)\tFinding the Average of Numbers:\n",
    "\n",
    "Input: A list of numbers in a text file.\n",
    "Process: Add all the numbers and divide by the total number of numbers.\n",
    "Output: The average of the numbers on screen\n",
    "\n",
    "### b)\tReversing a String:\n",
    "\n",
    "Input: A string in a text file.\n",
    "Process: Iterate through the string from the end to the beginning and append each character to a new string.\n",
    "Output: The reversed string on screen and in a new text file.\n"
   ]
  },
  {
   "cell_type": "markdown",
   "id": "b2b24327-28b1-4177-b361-8009e46312ad",
   "metadata": {},
   "source": [
    "### Proposed solution\n",
    "\n",
    "### a)\tFinding the Average of Numbers:\n",
    "\n",
    "**Flowchart:**\n",
    "\n",
    "<img src=\"Assets/HW3A_flowchart.jpg\" width=\"400\">\n",
    "\n",
    "**Pseudocode:**\n",
    "\n",
    "```\n",
    "FUNCTION average(fileName)\n",
    "BEGIN FUNCTION\n",
    "\n",
    "READ filename numbers\n",
    "\tSET sum TO 0\n",
    "\n",
    "\tFOR EACH item FROM numbers DO\n",
    "\t\tsum = sum + item\n",
    "\tEND FOREACH\n",
    "\n",
    "\tlenNum = LENGTH (numbers)\n",
    "\tSET mean TO sum/ lenNum\n",
    "\n",
    "\tRETURN mean\n",
    "\n",
    "END FUNCTION\n",
    "\n",
    "SET mean TO average(numbers.txt)\n",
    "SEND mean TO DISPLAY\n",
    "```\n",
    "\n",
    "**Python:**"
   ]
  },
  {
   "cell_type": "code",
   "execution_count": 2,
   "id": "88256ca2-5229-4e42-a8d5-ebb1e591a523",
   "metadata": {},
   "outputs": [
    {
     "name": "stdout",
     "output_type": "stream",
     "text": [
      "45.833333333333336\n"
     ]
    }
   ],
   "source": [
    "#definition of the function to get the average.\n",
    "def average(file):\n",
    "\n",
    "    #opening the file then closing ounce read.\n",
    "    myFile = open(file, 'r')\n",
    "    numberList = myFile.read().split(',')\n",
    "    myFile.close()\n",
    "\n",
    "    #initialisation\n",
    "    length = len(numberList)\n",
    "    sum = 0\n",
    "\n",
    "    #for each item in the list of numbers, calculate the sum of each item.\n",
    "    for number in numberList:\n",
    "        #we need to use int() because the number are stored as string in the list\n",
    "        sum = sum + int(number) \n",
    "        \n",
    "    return sum/length\n",
    "\n",
    "#call of the function\n",
    "mean = average('Assets/numbers.txt')\n",
    "\n",
    "print(mean)"
   ]
  },
  {
   "cell_type": "markdown",
   "id": "898cb1df-b6e9-4009-afa1-92cae1cf672b",
   "metadata": {},
   "source": [
    "### b)\tReversing a String:\n",
    "\n",
    "**Flowchart:**\n",
    "\n",
    "<img src=\"Assets/HW3B_flowchart.jpg\" width=\"400\">\n",
    "\n",
    "**Pseudocode:**\n",
    "\n",
    "```\n",
    "FUNCTION reverse(string)\n",
    "BEGIN FUNCTION\n",
    "\n",
    "\tSET reverseString TO ‘’\n",
    "\n",
    "\tFOR EACH char FROM string DO\n",
    "\t\treverseString = char + reverseString\n",
    "\tEND FOREACH\n",
    "\n",
    "\tRETURN reverseString\n",
    "\n",
    "END FUNCTION\n",
    "\n",
    "READ text.txt string\n",
    "\n",
    "SET reverseString TO reverse(string)\n",
    "\n",
    "SEND reverse(string) TO DISPLAY\n",
    "WRITE reverseString.txt reverseString\n",
    "```\n",
    "\n",
    "**Pyhton:**"
   ]
  },
  {
   "cell_type": "code",
   "execution_count": 5,
   "id": "daeca1d3-6da0-4db2-aae6-02d9952dad28",
   "metadata": {},
   "outputs": [
    {
     "name": "stdout",
     "output_type": "stream",
     "text": [
      ".laitnetop sseldnuob htiw ytilaer otni saedi tcartsba gnimrofsnart ,dlrow latigid eht rewop taht smhtirogla etacirtni otni ytivitaerc dna cigol gnivaew fo tra eht si ecneics retupmoC\n"
     ]
    }
   ],
   "source": [
    "#definition of the function that reverse ths string\n",
    "def reverse(string):\n",
    "\n",
    "    #initialisation\n",
    "    length = len(string)\n",
    "    reverseString = ''\n",
    "\n",
    "    #reverse the string\n",
    "    for char in string:\n",
    "        reverseString = char + reverseString\n",
    "    \n",
    "    #return the reverse string\n",
    "    return reverseString\n",
    "\n",
    "#opening the file then closing ounce read.\n",
    "readingFile = open('Assets/string.txt', 'r')\n",
    "string = readingFile.read()\n",
    "readingFile.close()\n",
    "\n",
    "#call the function\n",
    "reverseString = reverse(string)\n",
    "\n",
    "#output, on the screen and in a file   \n",
    "print(reverseString)\n",
    "\n",
    "writingFile = open('reverseString.txt', 'w')\n",
    "writingFile.write(reverseString)\n",
    "writingFile.close()\n"
   ]
  },
  {
   "cell_type": "code",
   "execution_count": null,
   "id": "7ba32101-cf8a-4316-9563-09acbb9e45c1",
   "metadata": {},
   "outputs": [],
   "source": []
  }
 ],
 "metadata": {
  "kernelspec": {
   "display_name": "Python 3 (ipykernel)",
   "language": "python",
   "name": "python3"
  },
  "language_info": {
   "codemirror_mode": {
    "name": "ipython",
    "version": 3
   },
   "file_extension": ".py",
   "mimetype": "text/x-python",
   "name": "python",
   "nbconvert_exporter": "python",
   "pygments_lexer": "ipython3",
   "version": "3.9.7"
  }
 },
 "nbformat": 4,
 "nbformat_minor": 5
}
