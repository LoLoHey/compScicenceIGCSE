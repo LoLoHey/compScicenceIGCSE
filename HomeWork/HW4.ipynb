{
 "cells": [
  {
   "cell_type": "markdown",
   "id": "634a6f4c-13cb-4cee-a9d6-ebc663bf4940",
   "metadata": {},
   "source": [
    "### a)\tBinary unsigned to Denary:\n",
    "\n",
    "Input: A binary number (8 bits). \\\n",
    "Process: Change the base of the number.\\\n",
    "Output: The equivalent denary number.\n",
    "\n",
    "### b)\tDenary to Binary unsigned:\n",
    "\n",
    "Input: A denary number (0 - 255).\\\n",
    "Process: Change the base of the number.\\\n",
    "Output: The equivalent (8 bits) binary number."
   ]
  },
  {
   "cell_type": "markdown",
   "id": "af725d5a-533d-4297-abdf-2e49910fa8e7",
   "metadata": {},
   "source": [
    "### Proposed solution\n",
    "\n",
    "### a)\tBinary unsigned to Denary:\n",
    "\n",
    "**Flowchart:**\n",
    "\n",
    "<img src=\"Assets/HW4A.jpg\" width=\"400\">\n",
    "\n",
    "**Pseudocode:**\n",
    "\n",
    "```\n",
    "FUNCTION binaryToDenary(binary)\n",
    "BEGIN FUNCTION\n",
    "\t\n",
    "\tSET power TO 7\n",
    "\tSET decimal T0 0\n",
    "\t\n",
    "\tFOR EACH bit FROM binary\n",
    "    \tSET denary TO denary + bit*2^power\n",
    "    \tSET power TO power – 1\n",
    "    END FOREACH\t\n",
    "\n",
    "RETURN denary\n",
    "END FUNCTION\n",
    "\n",
    "#Start main program\n",
    "\n",
    "RECEIVE binary FROM (STRING) KEYBOARD\n",
    "SET denary TO binaryToDenary(binary)\n",
    "SEND denary TO DISPLAY\n",
    "```\n",
    "\n",
    "**Python:**"
   ]
  },
  {
   "cell_type": "code",
   "execution_count": 5,
   "id": "88256ca2-5229-4e42-a8d5-ebb1e591a523",
   "metadata": {},
   "outputs": [
    {
     "name": "stdin",
     "output_type": "stream",
     "text": [
      "Please input an 8 bits binary number:  11001100\n"
     ]
    },
    {
     "name": "stdout",
     "output_type": "stream",
     "text": [
      "The denary representation of 11001100 is 204\n"
     ]
    }
   ],
   "source": [
    "# Function change from binary (unsigned 8 bits) to denary\n",
    "def binaryToDenary(binary):\n",
    "    \n",
    "    # Initialisation\n",
    "    power = 7\n",
    "    denary = 0\n",
    "    \n",
    "    # loop over each bit in the binary, in this function the binary is a string variable.\n",
    "    for bit in binary:\n",
    "        \n",
    "        # bit is a string, thus the function int()\n",
    "        denary = denary + int(bit)*2**power\n",
    "        power = power - 1\n",
    "    \n",
    "    return denary\n",
    "\n",
    "# start of the main program\n",
    "\n",
    "# ask the user an 8 bits binary number + validation check.\n",
    "binaryCheck = False\n",
    "lengthCheck = False\n",
    "while not binaryCheck and not lengthCheck:\n",
    "    binary = input('Please input an 8 bits binary number: ' )\n",
    "    \n",
    "    if len(binary) == 8:\n",
    "        lengthCheck = True\n",
    "    \n",
    "    num1 = binary.count('1')\n",
    "    num0 = binary.count('0')\n",
    "    if num0 + num1 == 8:\n",
    "        binaryCheck = True\n",
    "    \n",
    "    if not binaryCheck or not lengthCheck: \n",
    "        print('Please enter only an 8 bits binary number!')\n",
    "\n",
    "#call the function  \n",
    "denary = binaryToDenary(binary)\n",
    "\n",
    "print('The denary representation of', binary, 'is', denary)\n"
   ]
  },
  {
   "cell_type": "markdown",
   "id": "a8ae9e83-1618-428b-8b43-79efb977451c",
   "metadata": {},
   "source": [
    "### b)\tDenary to Binary unsigned:\n",
    "\n",
    "**Flowchart:**\n",
    "\n",
    "<img src=\"Assets/HW4B.jpg\" width=\"400\">\n",
    "\n",
    "**Pseudocode:**\n",
    "\n",
    "```\n",
    "FUNCTION denaryToBinary(binary)\n",
    "BEGIN FUNCTION\n",
    "\t\n",
    "\tSET power TO 7\n",
    "\tSET binary T0 “”\n",
    "\t\n",
    "\tREPEAT 8 TIMES\n",
    "\tIF denary >= 2^power THEN\n",
    "        SET binary TO binary + ‘1’\n",
    "        SET denary TO denary – 2^power\n",
    "\tELSE \n",
    "\tSET binary TO binary + ‘0’\n",
    "SET power TO power – 1\n",
    "END REPEAT\t\n",
    "\n",
    "RETURN denary\n",
    "END FUNCTION\n",
    "\n",
    "#Start main program\n",
    "\n",
    "RECEIVE denary FROM (STRING) KEYBOARD\n",
    "SET binary TO denaryToBinary(denary)\n",
    "SEND binary TO DISPLAY\n",
    "\n",
    "```\n",
    "\n",
    "**Pyhton:**\n",
    "There is 2 different functions for  denary to binary using 2 different algorithms."
   ]
  },
  {
   "cell_type": "code",
   "execution_count": 3,
   "id": "7ba32101-cf8a-4316-9563-09acbb9e45c1",
   "metadata": {},
   "outputs": [
    {
     "name": "stdin",
     "output_type": "stream",
     "text": [
      "Please enter an positive integer (0-255):  123\n"
     ]
    },
    {
     "name": "stdout",
     "output_type": "stream",
     "text": [
      "the binary representation of 123 is 01111011\n"
     ]
    }
   ],
   "source": [
    "# Function change from denary to binary (unsigned, 8 bits)\n",
    "def decimalToBinary(denary):\n",
    "    \n",
    "    power = 7\n",
    "    # the binary is represented with a string variable initialized empty.\n",
    "    binary = ''\n",
    "    \n",
    "    # Definite loop, since the number of bits is fixed (8 bits)\n",
    "    for counter in range(8):\n",
    "        \n",
    "        # standard algo to calculate the binary representation\n",
    "        if denary >= 2**power:\n",
    "            binary = binary + '1'\n",
    "            denary = denary - 2**power\n",
    "        else:\n",
    "            binary = binary + '0' \n",
    "            \n",
    "        power = power - 1\n",
    "            \n",
    "    return binary\n",
    "    \n",
    "# Function change from denary to binary (unsigned, 8 bits) with another algorithm\n",
    "def decimalToBinary2(denary):\n",
    "    \n",
    "    # the binary is represented with a string variable initialized empty.\n",
    "    binary = ''\n",
    "    \n",
    "    # definite loop for 8 bits\n",
    "    for counter in range(8):\n",
    "    \n",
    "        binary = str(denary % 2) + binary\n",
    "        denary = denary // 2 \n",
    "            \n",
    "    return binary\n",
    "\n",
    "# start of the main program\n",
    "\n",
    "# ask the user an positive integer (0,255) + validation check.\n",
    "rangeCheck = False\n",
    "\n",
    "while not rangeCheck:\n",
    "    decimal = int(input('Please enter an positive integer (0-255): ' ))\n",
    "    if decimal < 0 or decimal > 255:\n",
    "        print('Please only enter a number N: 0 <= N <= 255')\n",
    "    else:\n",
    "        rangeCheck = True\n",
    "\n",
    "binary = decimalToBinary(decimal)\n",
    "\n",
    "print('the binary representation of', decimal, 'is', binary)"
   ]
  }
 ],
 "metadata": {
  "kernelspec": {
   "display_name": "Python 3 (ipykernel)",
   "language": "python",
   "name": "python3"
  },
  "language_info": {
   "codemirror_mode": {
    "name": "ipython",
    "version": 3
   },
   "file_extension": ".py",
   "mimetype": "text/x-python",
   "name": "python",
   "nbconvert_exporter": "python",
   "pygments_lexer": "ipython3",
   "version": "3.9.7"
  }
 },
 "nbformat": 4,
 "nbformat_minor": 5
}
