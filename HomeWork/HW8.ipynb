{
 "cells": [
  {
   "cell_type": "markdown",
   "id": "2734c41a-a37d-42af-9e03-d7862f2ad236",
   "metadata": {},
   "source": [
    "### a)\tSum of integers\n",
    "Write a program which repeatedly reads integers until the user enters “done”. Once “done” is entered, print out the total, count, and average of the integers. The program should store the numbers the user enters in a list and use the max() and min() functions to compute the maximum and minimum numbers after the loop completes. If the user enters anything other than a integers, detect their mistakes using try and except and print an error message and skip to the next integers.\n",
    "\n",
    "\n",
    "### b)\tCalculate the GCD (Greatest Common Divisor) and the LCM (Least Common Multiple)\n",
    "\n",
    "Problem: Write a program to find the greatest common divisor of two numbers using the Euclidean algorithm. Then calculate the LCM using:\n",
    "Algorithm: \\\n",
    "$lcm(a,b) = \\frac{|a.b|}{gcd(a,b)}$ \\\n",
    "Input: Two integer a and b.\\\n",
    "While b is not zero, replace a with b and b with a % b. Then compute the LCM. \\\n",
    "Output: The value of a, which is the GCD and the value of the LCM\n",
    "\n",
    "\n",
    "\n"
   ]
  },
  {
   "cell_type": "markdown",
   "id": "7fac6314-2d79-4180-9b22-592e3b0d77d3",
   "metadata": {},
   "source": [
    "### Sum of integers\n",
    "\n",
    "### a)\tSum of Digits of a Number:\n",
    "\n",
    "**Flowchart:**\n",
    "\n",
    "<img src=\"Assets/HW8A.jpg\" width=\"400\">\n",
    "\n",
    "**Pseudocode:**\n",
    "\n",
    "```\n",
    "#Initialisation\n",
    "SET list_number TO []\n",
    "SET sum TO =\n",
    "\n",
    "#Main loop\n",
    "REPEAT\n",
    "\tSEND next integer or ‘done’ TO DISPLAY\n",
    "\tRECEIVE input FROM KEYBOARD\n",
    "\tIF input is integer THEN\n",
    "\t\tSET list_number TO list_number + input\n",
    "\t\tSET sum TO sum + input\n",
    "\tELSE IF input not valid THEN\n",
    "\t\tSEND invalid input TO DISPLAY\n",
    "\tEND IF\n",
    "UNTIL input = done\n",
    "\n",
    "SET length_list TO LENGTH(list_number)\n",
    "SET average TO sum/ length_list\n",
    "SET max TO MAX(list_number)\n",
    "SET min TO MIN(list_number)\n",
    "\n",
    "SEND the list is + list_number TO DISPLAY\n",
    "SEND length_list + elements TO DISPLAY\n",
    "SEND the average is + average TO DISPLAY\n",
    "SEND the maximum is + max TO DISPLAY\n",
    "SEND the minimum is + min TO DISPLAY\n",
    "\n",
    "\n",
    "```\n",
    "\n",
    "**Python:**"
   ]
  },
  {
   "cell_type": "code",
   "execution_count": 1,
   "id": "88256ca2-5229-4e42-a8d5-ebb1e591a523",
   "metadata": {},
   "outputs": [
    {
     "name": "stdin",
     "output_type": "stream",
     "text": [
      "Pleaser enter the next Integer or done if you want to exit:  12\n",
      "Pleaser enter the next Integer or done if you want to exit:  43\n",
      "Pleaser enter the next Integer or done if you want to exit:  31\n",
      "Pleaser enter the next Integer or done if you want to exit:  r3\n"
     ]
    },
    {
     "name": "stdout",
     "output_type": "stream",
     "text": [
      "Input not valid\n"
     ]
    },
    {
     "name": "stdin",
     "output_type": "stream",
     "text": [
      "Pleaser enter the next Integer or done if you want to exit:  done\n"
     ]
    },
    {
     "name": "stdout",
     "output_type": "stream",
     "text": [
      "The list is: [12, 43, 31]\n",
      "there are 3 integers in the list\n",
      "the average (3 d.p.) is: 28.667\n",
      "the Max is : 43\n",
      "the Min is : 12\n"
     ]
    }
   ],
   "source": [
    "#import statistics to calculate the average\n",
    "from statistics import mean\n",
    "\n",
    "#initialisation\n",
    "list_numbers: list = []\n",
    "\n",
    "#Main loop of the program\n",
    "while True:\n",
    "    input_user = input('Pleaser enter the next Integer or done if you want to exit: ')\n",
    "    if input_user.lower() == 'done':\n",
    "        break\n",
    "    else:\n",
    "        try:\n",
    "            input_user = int(input_user)\n",
    "            list_numbers.append(input_user)\n",
    "        except ValueError:\n",
    "            print('Input not valid')\n",
    "\n",
    "#calculation + output\n",
    "if list_numbers:\n",
    "    print(f'The list is: {list_numbers}')\n",
    "    print(f'there are {len(list_numbers)} integers in the list')\n",
    "    print(f'the average (3 d.p.) is: {mean(list_numbers):.3f}')\n",
    "    print(f'the Max is : {max(list_numbers)}')\n",
    "    print(f'the Min is : {min(list_numbers)}')\n",
    "else:\n",
    "    print(f'The list is empty')\n",
    "\n"
   ]
  },
  {
   "cell_type": "markdown",
   "id": "d666fea0-ee4f-4932-a689-4102ade0212b",
   "metadata": {},
   "source": [
    "### b)\tCalculate the GCD (Greatest Common Divisor) and the LCM (Least Common Multiple)\n",
    "\n",
    "**Flowchart:**\n",
    "\n",
    "<img src=\"Assets/HW8B.jpg\" width=\"400\">\n",
    "\n",
    "**Pseudocode:**\n",
    "\n",
    "```\n",
    "#function gcd\r\n",
    "FUNCTION gcd(a, b)\r\n",
    "BEGIN FUNCTION\r\n",
    "\tIF b = 0 THEN\r\n",
    "\tRETURN a\r\n",
    "\tRETURN gcd(b, a MOD b)\r\n",
    "END FUNCTION\r\n",
    "\r\n",
    "#function lcm\r\n",
    "FUNCTION gcd(a, b)\r\n",
    "BEGIN FUNCTION\r\n",
    "\tSET gcd TO gcd(a, b)\r\n",
    "\tSET lcm TO a*b/gcd\r\n",
    "RETURN lcm\r\n",
    "END FUNCTION\r\n",
    "\r\n",
    "SEND ‘please enter a and b’ TO DISPLAY\r\n",
    "RECEIVE a, b FROM KEYBOARD\r\n",
    "\r\n",
    "SET gcd TO gcd(a, b)\r\n",
    "SET lcm TO lcm(a, b)\r\n",
    "\r\n",
    "SEND ‘gcd is’ + gcd TO DISPLAY\r\n",
    "SEND ‘lc\n",
    "s’ + lcm TO DISPLAY\r\n",
    "SEND orderList TO DISPLAY\r\n",
    "\n",
    "\n",
    "```\n",
    "\n",
    "**Pyhton:**"
   ]
  },
  {
   "cell_type": "code",
   "execution_count": 8,
   "id": "65f129f6-0be8-4392-990c-b954bea9ae6f",
   "metadata": {},
   "outputs": [
    {
     "name": "stdin",
     "output_type": "stream",
     "text": [
      "Input two integers (a b):  42\n"
     ]
    },
    {
     "name": "stdout",
     "output_type": "stream",
     "text": [
      "Error: Please follow the required format\n"
     ]
    },
    {
     "name": "stdin",
     "output_type": "stream",
     "text": [
      "Input two integers (a b):  12 42\n"
     ]
    },
    {
     "name": "stdout",
     "output_type": "stream",
     "text": [
      "The GCD of 12 and 42 is 6\n",
      "The LCM of 12 and 42 is 84\n"
     ]
    }
   ],
   "source": [
    "#calculate the GCD following the Euclidean algorithm with function  recursion \n",
    "def gcd(a: int, b: int) -> int:\n",
    "    if not b:\n",
    "        return a\n",
    "    return gcd(b, a % b)\n",
    "\n",
    "#calculate the LCM     \n",
    "def lcm(a: int, b: int) -> int:\n",
    "        \n",
    "    return abs(a*b)//gcd(a, b)\n",
    "\n",
    "def getInput() -> tuple[int, int]:\n",
    "\n",
    "    while True:\n",
    "        # Try a correct input to get the input from the user.\n",
    "        try:\n",
    "            a, b = map(int, input(\"Input two integers (a b): \").split())\n",
    "            break\n",
    "        except ValueError:\n",
    "            print('Error: Please follow the required format')\n",
    "        \n",
    "    return a, b\n",
    "\n",
    "#get the two input \n",
    "a, b = getInput()\n",
    "       \n",
    "print(f'The GCD of {a} and {b} is {gcd(a, b)}')\n",
    "print(f'The LCM of {a} and {b} is {lcm(a, b)}')\n"
   ]
  },
  {
   "cell_type": "code",
   "execution_count": null,
   "id": "202ae11a-137e-45e3-a67b-9fe76fd4ccc2",
   "metadata": {},
   "outputs": [],
   "source": []
  }
 ],
 "metadata": {
  "kernelspec": {
   "display_name": "Python 3 (ipykernel)",
   "language": "python",
   "name": "python3"
  },
  "language_info": {
   "codemirror_mode": {
    "name": "ipython",
    "version": 3
   },
   "file_extension": ".py",
   "mimetype": "text/x-python",
   "name": "python",
   "nbconvert_exporter": "python",
   "pygments_lexer": "ipython3",
   "version": "3.9.7"
  }
 },
 "nbformat": 4,
 "nbformat_minor": 5
}
