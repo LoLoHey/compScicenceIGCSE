{
 "cells": [
  {
   "cell_type": "markdown",
   "id": "2622cd95-1495-44ef-86e7-d2c49c6896a8",
   "metadata": {},
   "source": [
    "# Unit 2 Programming\n",
    "\n",
    "## 5 Develop Code\n",
    "\n",
    "Algorithm is converted into actual programming code.\n",
    "\n",
    "Pearson Edexcel Pseudocode\n",
    "Python\n",
    "\n",
    "### Algorothms and Programs\n",
    "\n",
    "You will learn to write a program with a high-level programming language (Python). \n",
    "\n",
    "**execution**: Process by which the computer carries out the instruction.\n",
    "\n",
    "### Data types\n",
    "\n",
    "| Data type | Description | Example | \n",
    "| ----------- | ----------- | ----------- |\n",
    "| Interger | Used to store a whole numbers (+ or -) | age = 15 |\n",
    "| Real or Float | Used to store number with fractional part | length = 12.23|\n",
    "| Boolean | Logic value, True or False | over18 = False |\n",
    "| character* | A character can be a single letter, symbol, number ... | char = ':'|\n",
    "| string | A chain of characters |  name = \"Laurent'|\n",
    " \n",
    " There is no character data type in Python\n",
    "\n",
    " Data type of a variable determine the operations that can be perform on it.\n",
    "\n",
    " In Java and C a variable must be declare with its data type before it can be used.\n",
    " Python automatically assigne the appropriate data type.\n",
    " \n",
    "#### Variable initialisation\n",
    "\n",
    "**initialise** to set variable to their starting values\n",
    "**assignement statement** the SET ... TO is used to change the value of a variable in pseudocode.\n",
    "\n",
    "#### Type coercion\n",
    "\n",
    "**type coercion**: The process of converting the value stored in a variable from one data type to another"
   ]
  },
  {
   "cell_type": "code",
   "execution_count": 6,
   "id": "698e3013-f244-486a-9522-3e8bf68b89b1",
   "metadata": {
    "scrolled": true
   },
   "outputs": [
    {
     "name": "stdout",
     "output_type": "stream",
     "text": [
      "4.0   <class 'float'>\n"
     ]
    }
   ],
   "source": [
    "a = 2\n",
    "b = 2.0\n",
    "\n",
    "try:   \n",
    "    c = a * b\n",
    "    print(c, ' ', type(c))\n",
    "\n",
    "except:\n",
    "    print('(╥﹏╥)')\n"
   ]
  },
  {
   "attachments": {},
   "cell_type": "markdown",
   "id": "85bcb57f-4832-4f07-affb-726ce3eb46b7",
   "metadata": {},
   "source": [
    "### Command Sequence Selection and Iteration\n",
    "\n",
    "Now you have to try to implement some algorithms:\n",
    "\n",
    "<img src=\"Img/activity3.png\" width=\"400\">\n"
   ]
  },
  {
   "cell_type": "code",
   "execution_count": 3,
   "id": "1a9ceba3-cb85-4682-8e45-ff19c5db9b7c",
   "metadata": {},
   "outputs": [
    {
     "name": "stdin",
     "output_type": "stream",
     "text": [
      "give me a number: 20\n",
      "give me another number: 6\n"
     ]
    },
    {
     "name": "stdout",
     "output_type": "stream",
     "text": [
      "Real Divsion:  3.3333333333333335\n",
      "Remainder:  2\n",
      "Quotient:  3\n"
     ]
    }
   ],
   "source": [
    "number1 = int(input(\"give me a number:\"))\n",
    "number2 = int(input(\"give me another number:\"))\n",
    "\n",
    "result1 = number1 / number2 #Real division\n",
    "print(\"Real Divsion: \", result1)\n",
    "\n",
    "result2 = number1 % number2 #Modulo\n",
    "print(\"Remainder: \", result2)\n",
    "\n",
    "result3 = number1 // number2 #Quotient\n",
    "print(\"Quotient: \", result3)\n"
   ]
  },
  {
   "cell_type": "markdown",
   "id": "80e3f38c-23df-4be8-a35e-66dce7b518a5",
   "metadata": {},
   "source": [
    "#### Selection\n",
    "\n",
    "The selection is used to create a branch in a program: IF ... THEN ... ELSE\n",
    "\n",
    "**nested IF statement**: an IF stament within an IF stament within an IF statement an IF statement...\n",
    "\n",
    "In python there is the stement IF ... ELSE IF ... ELSE\n",
    "\n",
    "Too much nested statement is considered a malpractice. "
   ]
  },
  {
   "cell_type": "code",
   "execution_count": 21,
   "id": "6f889e6e-b978-4ae7-8f9f-20e3e9800ead",
   "metadata": {},
   "outputs": [
    {
     "name": "stdout",
     "output_type": "stream",
     "text": [
      "you are a kid\n"
     ]
    }
   ],
   "source": [
    "age = 10\n",
    "\n",
    "if age < 13:\n",
    "    print(\"You are a kid\")\n",
    "elif age >= 13 and age <= 19:\n",
    "    print(\"You have to study!\")\n",
    "else:\n",
    "    print(\"Do what you want!\")"
   ]
  },
  {
   "cell_type": "markdown",
   "id": "70d8a01a-0556-4ef3-8bcd-cbb705d9c568",
   "metadata": {},
   "source": [
    "##### Relational Operator\n",
    "\n",
    "| Relational Operator| Python, Java, C#|\n",
    "| ----------- | :-----------: |\n",
    "| Equal to | == |\n",
    "| Greater than | > |\n",
    "| Greater than or equal to | >= |\n",
    "| Less than | < |\n",
    "| Less than or equal to | <= |\n",
    "| Not equal to | != |\n",
    "\n",
    "##### Logical Operator\n",
    "\n",
    "**NOT**: \n",
    "| A | not A |\n",
    "| ----------- | :-----------: |\n",
    "| T | F | \n",
    "| F | T | \n",
    "\n",
    "**AND**: Both conditions must be True.\n",
    "| A | B | A and B |\n",
    "| ----------- | ----------- | :-----------: |\n",
    "| T | T | T |\n",
    "| T | F | F |\n",
    "| F | T | F |\n",
    "| F | F | F |\n",
    "\n",
    "**OR**: Either one of the condition must be True.\n",
    "| A | B | A or B |\n",
    "| ----------- | ----------- | :-----------: |\n",
    "| T | T | T |\n",
    "| T | F | T |\n",
    "| F | T | T |\n",
    "| F | F | F |\n",
    "\n",
    "In Python it is very easy!\n",
    "\n",
    "| Logical Operator | Python |\n",
    "| ----------- | :-----------: | \n",
    "| AND | and |\n",
    "| OR | or |\n",
    "| NOT | not |\n",
    "\n",
    "#### Loops\n",
    "\n",
    "There are two types of loop: definite and indefinite.\n",
    "\n",
    "A definitive loop is used when *you know in advance* how many time the instructions in the body of the loop are to be repeated.\n",
    "\n",
    "An indefinite loop is used when the number of times a loop will need to be repeated is *not know in advance*.\n"
   ]
  },
  {
   "cell_type": "markdown",
   "id": "d3f8c8c4-1815-42fb-be26-95efe7a2e58a",
   "metadata": {},
   "source": [
    "#### Definite Iteration\n",
    "\n",
    "In pseudocode \n",
    "\n",
    "In Python you can use the statement for, that produce an iteration"
   ]
  },
  {
   "cell_type": "code",
   "execution_count": 2,
   "id": "aebebf5b-d4f1-4333-b200-6007c5f87986",
   "metadata": {
    "scrolled": true
   },
   "outputs": [
    {
     "name": "stdout",
     "output_type": "stream",
     "text": [
      "0\n",
      "1\n",
      "2\n",
      "3\n",
      "4\n",
      "5\n"
     ]
    }
   ],
   "source": [
    "for x in range(6):\n",
    "    print(x)"
   ]
  },
  {
   "cell_type": "code",
   "execution_count": 36,
   "id": "c9d1b72e-606f-403e-b625-bce9b64d544a",
   "metadata": {},
   "outputs": [
    {
     "name": "stdout",
     "output_type": "stream",
     "text": [
      "2\n",
      "3\n",
      "4\n",
      "5\n"
     ]
    }
   ],
   "source": [
    "for x in range(2,6):\n",
    "    print(x)"
   ]
  },
  {
   "cell_type": "code",
   "execution_count": 35,
   "id": "1cd970d0-823c-4833-9d46-6d9441f6bc2f",
   "metadata": {},
   "outputs": [
    {
     "name": "stdout",
     "output_type": "stream",
     "text": [
      "0\n",
      "25\n",
      "50\n",
      "75\n"
     ]
    }
   ],
   "source": [
    "for x in range(0,100,25):\n",
    " print(x)"
   ]
  },
  {
   "cell_type": "code",
   "execution_count": 30,
   "id": "e9e2bbc6-983b-485c-9ce6-3e330592c0f3",
   "metadata": {},
   "outputs": [
    {
     "name": "stdout",
     "output_type": "stream",
     "text": [
      "red\n",
      "blue\n",
      "green\n",
      "yellow\n",
      "purple\n",
      "orange\n"
     ]
    }
   ],
   "source": [
    "aList = ['red', 'blue', 'green', 'yellow', 'purple', 'orange']\n",
    "for colour in aList:\n",
    " print (colour)"
   ]
  },
  {
   "cell_type": "code",
   "execution_count": 34,
   "id": "affab1ed-8176-47dc-8e9a-99da6b036bf9",
   "metadata": {},
   "outputs": [
    {
     "name": "stdout",
     "output_type": "stream",
     "text": [
      "red\n",
      "blue\n",
      "green\n",
      "purple\n",
      "orange\n"
     ]
    }
   ],
   "source": [
    "#Leave out an item of the lsit\n",
    "aList = ['red', 'blue', 'green', 'yellow', 'purple', 'orange']\n",
    "for colour in aList:\n",
    "    if colour == 'yellow':\n",
    "        continue\n",
    "    print (colour)"
   ]
  },
  {
   "cell_type": "code",
   "execution_count": null,
   "id": "13cfeff6-e064-4e77-80f8-a1bd59269d75",
   "metadata": {},
   "outputs": [],
   "source": [
    "# Activity 6\n",
    "\n",
    "firstNumber = int(input('enter first number: '))\n",
    "secondNumber = int(input('enter second number: '))\n",
    "\n",
    "total = 0\n",
    "for count in range(firstNumber, secondNumber + 1):\n",
    "    print(count)\n",
    "    total = total + count\n",
    "\n",
    "print('sum is: ', total)"
   ]
  },
  {
   "cell_type": "markdown",
   "id": "9e11f8c8-2397-46d4-879b-f29a6c73ec2e",
   "metadata": {
    "jp-MarkdownHeadingCollapsed": true
   },
   "source": [
    "##### Nested Loops\n",
    "\n",
    "Of course you can **nest loop** !"
   ]
  },
  {
   "cell_type": "code",
   "execution_count": 9,
   "id": "8b977e38-a118-4b89-935b-1835ed379e18",
   "metadata": {},
   "outputs": [
    {
     "name": "stdout",
     "output_type": "stream",
     "text": [
      "0 0 0\n",
      "0 0 1\n",
      "0 0 2\n",
      "0 1 0\n",
      "0 1 1\n",
      "0 1 2\n",
      "0 2 0\n",
      "0 2 1\n",
      "0 2 2\n",
      "0 3 0\n",
      "0 3 1\n",
      "0 3 2\n",
      "0 4 0\n",
      "0 4 1\n",
      "0 4 2\n",
      "0 5 0\n",
      "0 5 1\n",
      "0 5 2\n",
      "1 0 0\n",
      "1 0 1\n",
      "1 0 2\n",
      "1 1 0\n",
      "1 1 1\n",
      "1 1 2\n",
      "1 2 0\n",
      "1 2 1\n",
      "1 2 2\n",
      "1 3 0\n",
      "1 3 1\n",
      "1 3 2\n",
      "1 4 0\n",
      "1 4 1\n",
      "1 4 2\n",
      "1 5 0\n",
      "1 5 1\n",
      "1 5 2\n"
     ]
    }
   ],
   "source": [
    "for i in range(2):\n",
    "    for j in range(6):\n",
    "        for k in range(3):\n",
    "            print(i,j,k)"
   ]
  },
  {
   "cell_type": "markdown",
   "id": "030da0c6-f79a-44cf-a922-6523bd293008",
   "metadata": {},
   "source": [
    "##### Indefinite Iteration\n",
    "\n",
    "For indefinite iteration, Python uses the ‘while’ loop – something is done while a **condition is met**."
   ]
  },
  {
   "cell_type": "code",
   "execution_count": 11,
   "id": "43e682c1-44de-45fa-b7bb-28e9558f61c5",
   "metadata": {},
   "outputs": [
    {
     "name": "stdin",
     "output_type": "stream",
     "text": [
      "Please enter a number 3\n",
      "Please enter a number 5\n",
      "Please enter a number 3\n",
      "Please enter a number 7\n",
      "Please enter a number 4\n",
      "Please enter a number 19\n",
      "Please enter a number 20\n",
      "Please enter a number 21\n"
     ]
    },
    {
     "name": "stdout",
     "output_type": "stream",
     "text": [
      "You entered a number greater than 20\n"
     ]
    }
   ],
   "source": [
    "number = 1\n",
    "while number <= 20:\n",
    "    number = int(input('Please enter a number'))\n",
    "print('You entered a number greater than 20')"
   ]
  },
  {
   "cell_type": "markdown",
   "id": "ebe7583e-ebe1-4717-8525-16da4971dea9",
   "metadata": {},
   "source": [
    "##### Random Number\n",
    "\n",
    "Random number are very useful!"
   ]
  },
  {
   "cell_type": "code",
   "execution_count": 57,
   "id": "8acef4eb-10e4-473b-8e53-cd0078466aad",
   "metadata": {},
   "outputs": [
    {
     "name": "stdout",
     "output_type": "stream",
     "text": [
      "2\n"
     ]
    }
   ],
   "source": [
    "import random\n",
    "x = random.randint(1, 6)\n",
    "print(x)"
   ]
  },
  {
   "cell_type": "markdown",
   "id": "8c7f6cba-9d57-4af1-b1fc-ab84da0c65ba",
   "metadata": {},
   "source": [
    "## 6 Making Programs Easy to Read\n",
    "\n",
    "Code should be writting in shared standard ways and be explained using comments.\n",
    "\n",
    "#### Code Readability\n",
    "\n",
    "There are good practices and bad practices, but not everyone agree...\n",
    "\n",
    "<img src=\"Img/spaghettiCode.png\" width=\"500\">\n",
    "\n",
    "|TECHNIQUE|  DESCRIPTION |\n",
    "| ------- | ------------ |\n",
    "| Comments | Comments should be used to explain what each part of the program does.|\n",
    "| Descriptive names | Using descriptive identifiers for variables, constants and subprograms helps to make their purpose clear.|\n",
    "| Indentation | Indentation makes it easier to see where each block of code starts and finishes. Getting the **indentation wrong in Python** will result in the program not running or not producing the expected outcomes. |\n",
    "| White space | Adding blank lines between different blocks of code makes them stand out.|"
   ]
  },
  {
   "cell_type": "markdown",
   "id": "a1450316-19f5-4ad9-9763-e15e61c2fd8d",
   "metadata": {},
   "source": [
    "## 7 Strings\n",
    "\n",
    "- **String**: a sequence of characters"
   ]
  },
  {
   "cell_type": "code",
   "execution_count": 2,
   "id": "55480f36-fb71-4a01-841a-c6ca6c2f1093",
   "metadata": {},
   "outputs": [
    {
     "name": "stdout",
     "output_type": "stream",
     "text": [
      "<class 'str'>\n",
      "<class 'str'>\n"
     ]
    }
   ],
   "source": [
    "thisIsAString = 'Anything within quotation marks'\n",
    "print(type(thisIsAString))\n",
    "\n",
    "thisIsAnEmptyString = ''\n",
    "print(type(thisIsAnEmptyString))"
   ]
  },
  {
   "cell_type": "markdown",
   "id": "5e521373-f6dd-4770-86a0-28a7f8fd3019",
   "metadata": {},
   "source": [
    "### String Indexing\n",
    "\n",
    "The first character is at the position 0."
   ]
  },
  {
   "cell_type": "code",
   "execution_count": 1,
   "id": "748a9b24-c7aa-41a1-a06f-0102b273bb07",
   "metadata": {},
   "outputs": [
    {
     "name": "stdout",
     "output_type": "stream",
     "text": [
      "u\n"
     ]
    }
   ],
   "source": [
    "thisIsAString = 'Computer Science'\n",
    "print(thisIsAString[4])"
   ]
  },
  {
   "cell_type": "markdown",
   "id": "0f5bf58e-0ac4-4016-93d1-99e45651efd3",
   "metadata": {},
   "source": [
    "### Length\n",
    "\n",
    "We can use the *length* function to get the number of character\n",
    "\n",
    "\n",
    "- **function** a subprogram that performs a specific task and might return a value to the main program.\n"
   ]
  },
  {
   "cell_type": "code",
   "execution_count": 2,
   "id": "80bb7ecc-51c2-4ce5-aa76-76344f6003b9",
   "metadata": {},
   "outputs": [
    {
     "name": "stdout",
     "output_type": "stream",
     "text": [
      "8\n"
     ]
    }
   ],
   "source": [
    "thisIsAString = 'Computer Science'\n",
    "length = len(thisIsAString) \n",
    "print(length)"
   ]
  },
  {
   "cell_type": "markdown",
   "id": "a8a53b5d-ccff-479d-957b-bd6cd787c326",
   "metadata": {},
   "source": [
    "### String Traversal\n",
    "\n",
    "- **String Traversal**: using loop to cycle through each character in a string.\n",
    "\n",
    "We can use a FOR loop to cycle through each character in a string. \\\n",
    "Pseudocode: `FOR index 0 TO LENGTH(string) - 1.` \\\n",
    "The loop runs until  `LENGTH(string) - 1.` because string indexing starts at 0 and therefore has to print characters with indexes of 0 to 5.\n",
    "\n",
    "!!! Using Python you should not use len(string) - 1 !!! "
   ]
  },
  {
   "cell_type": "code",
   "execution_count": 11,
   "id": "a38798d7-26b7-49d1-8bcd-9b29e69201a8",
   "metadata": {},
   "outputs": [
    {
     "name": "stdout",
     "output_type": "stream",
     "text": [
      "C\n",
      "o\n",
      "m\n",
      "p\n",
      "u\n",
      "t\n",
      "e\n",
      "r\n",
      " \n",
      "S\n",
      "c\n",
      "i\n",
      "e\n",
      "n\n",
      "c\n",
      "e\n"
     ]
    }
   ],
   "source": [
    "thisIsAString = 'Computer Science'\n",
    "for index in range (0, len(thisIsAString)):\n",
    "    print(thisIsAString[index])"
   ]
  },
  {
   "cell_type": "markdown",
   "id": "63a0b302-c39c-444c-a382-4d79a43860f3",
   "metadata": {},
   "source": [
    "### Other Ways to Manipulate Strings\n",
    "\n",
    "#### Finding a Character With a Particular Index\n",
    "\n",
    "##### Python"
   ]
  },
  {
   "cell_type": "code",
   "execution_count": 2,
   "id": "cc829f60-0de0-4925-b603-dab1bd195478",
   "metadata": {},
   "outputs": [
    {
     "name": "stdout",
     "output_type": "stream",
     "text": [
      "C\n",
      "e\n",
      "e\n"
     ]
    },
    {
     "ename": "IndexError",
     "evalue": "string index out of range",
     "output_type": "error",
     "traceback": [
      "\u001b[1;31m---------------------------------------------------------------------------\u001b[0m",
      "\u001b[1;31mIndexError\u001b[0m                                Traceback (most recent call last)",
      "Cell \u001b[1;32mIn[2], line 5\u001b[0m\n\u001b[0;32m      3\u001b[0m \u001b[38;5;28mprint\u001b[39m(thisIsAString[\u001b[38;5;241m15\u001b[39m])\n\u001b[0;32m      4\u001b[0m \u001b[38;5;28mprint\u001b[39m(thisIsAString[\u001b[38;5;241m-\u001b[39m\u001b[38;5;241m1\u001b[39m])\n\u001b[1;32m----> 5\u001b[0m \u001b[38;5;28mprint\u001b[39m(\u001b[43mthisIsAString\u001b[49m\u001b[43m[\u001b[49m\u001b[38;5;241;43m16\u001b[39;49m\u001b[43m]\u001b[49m)\n",
      "\u001b[1;31mIndexError\u001b[0m: string index out of range"
     ]
    }
   ],
   "source": [
    "thisIsAString = 'Computer Science'\n",
    "print(thisIsAString[0])\n",
    "print(thisIsAString[15])\n",
    "print(thisIsAString[-1])\n",
    "print(thisIsAString[16])\n",
    "\n"
   ]
  },
  {
   "cell_type": "markdown",
   "id": "7b78ce34-d90b-4485-b992-75088716bb4d",
   "metadata": {},
   "source": [
    "#### Changing All Characters to Lower Case\n",
    "\n",
    "##### Python"
   ]
  },
  {
   "cell_type": "code",
   "execution_count": 24,
   "id": "f68c5bb7-a3a5-4df2-b99e-342ae3a2944d",
   "metadata": {},
   "outputs": [
    {
     "name": "stdout",
     "output_type": "stream",
     "text": [
      "Computer Science\n",
      "computer science\n"
     ]
    }
   ],
   "source": [
    "thisIsAString = 'Computer Science'\n",
    "print(thisIsAString)\n",
    "thisIsAString = thisIsAString.lower()\n",
    "print(thisIsAString)"
   ]
  },
  {
   "cell_type": "markdown",
   "id": "6ce6bb35-6625-4766-b4ee-d5898452b5fc",
   "metadata": {},
   "source": [
    "#### Changing All Characters to Upper Case\n",
    "\n",
    "##### Python"
   ]
  },
  {
   "cell_type": "code",
   "execution_count": 25,
   "id": "8add5990-1493-407f-8bc3-15425c677e54",
   "metadata": {},
   "outputs": [
    {
     "name": "stdout",
     "output_type": "stream",
     "text": [
      "Computer Science\n",
      "COMPUTER SCIENCE\n"
     ]
    }
   ],
   "source": [
    "thisIsAString = 'Computer Science'\n",
    "print(thisIsAString)\n",
    "thisIsAString = thisIsAString.upper()\n",
    "print(thisIsAString)"
   ]
  },
  {
   "cell_type": "markdown",
   "id": "001c1b26-8187-47f9-a3c5-3f3702e993fc",
   "metadata": {},
   "source": [
    "Changing strings to upper of lower case is useful when comparing two strings and the case does not matter.\n",
    "\n",
    "#### Extracting Characters From a String\n",
    "\n",
    "##### Python"
   ]
  },
  {
   "cell_type": "code",
   "execution_count": 5,
   "id": "e71df541-f064-47b1-ac24-20f91e6fdb80",
   "metadata": {},
   "outputs": [
    {
     "name": "stdout",
     "output_type": "stream",
     "text": [
      "mputer Science\n"
     ]
    }
   ],
   "source": [
    "thisIsAString = 'Computer Science'\n",
    "subString = thisIsAString[2:] #! 7 is not included\n",
    "print(subString)"
   ]
  },
  {
   "cell_type": "markdown",
   "id": "5b90bf6d-f972-4c6e-a395-629e9a2786af",
   "metadata": {},
   "source": [
    "#### Checking a Phrase in the String\n",
    "\n",
    "We can check if a substring is present in a string"
   ]
  },
  {
   "cell_type": "code",
   "execution_count": 32,
   "id": "af3bb08a-14e3-4ff0-87f1-641b2d619c6d",
   "metadata": {},
   "outputs": [
    {
     "name": "stdout",
     "output_type": "stream",
     "text": [
      "True\n",
      "False\n",
      "True\n"
     ]
    }
   ],
   "source": [
    "thisIsAString = 'Computer Science'\n",
    "\n",
    "present = 'put' in thisIsAString\n",
    "print(present)\n",
    "\n",
    "# This method is case sensitive: \n",
    "present = 'PUT' in thisIsAString\n",
    "print(present)\n",
    "\n",
    "# You could use the upper method: \n",
    "present = 'PUT' in thisIsAString.upper()\n",
    "print(present)"
   ]
  },
  {
   "cell_type": "markdown",
   "id": "002b171d-447a-400f-b594-ec0bcbb1c2ae",
   "metadata": {},
   "source": [
    "### Concatenation\n",
    "\n",
    "Concatenation involves joining two or more items together. \\\n",
    "Here in pseudocode: `SEND 'Hello' & userName TO DISPLAY` \\\n",
    "Here in python:"
   ]
  },
  {
   "cell_type": "code",
   "execution_count": 7,
   "id": "3c326a46-8a24-4bc8-9c8f-46daae8a5128",
   "metadata": {},
   "outputs": [
    {
     "name": "stdin",
     "output_type": "stream",
     "text": [
      "Please enter your username toto\n"
     ]
    },
    {
     "name": "stdout",
     "output_type": "stream",
     "text": [
      "Hello  toto\n"
     ]
    }
   ],
   "source": [
    "userName = input('Please enter your username')\n",
    "print('Hello ' + userName)"
   ]
  },
  {
   "cell_type": "markdown",
   "id": "fc86a8c0-aff6-49e4-b310-06c6d98b7614",
   "metadata": {},
   "source": [
    "In Python, we can only concatenate strings. So, you may have to convert the variable into a string"
   ]
  },
  {
   "cell_type": "code",
   "execution_count": 9,
   "id": "c0af903d-9301-4bf6-bb7f-d576560acd48",
   "metadata": {},
   "outputs": [
    {
     "ename": "TypeError",
     "evalue": "can only concatenate str (not \"int\") to str",
     "output_type": "error",
     "traceback": [
      "\u001b[1;31m---------------------------------------------------------------------------\u001b[0m",
      "\u001b[1;31mTypeError\u001b[0m                                 Traceback (most recent call last)",
      "Cell \u001b[1;32mIn[9], line 2\u001b[0m\n\u001b[0;32m      1\u001b[0m length \u001b[38;5;241m=\u001b[39m \u001b[38;5;241m13\u001b[39m\n\u001b[1;32m----> 2\u001b[0m \u001b[38;5;28mprint\u001b[39m(\u001b[38;5;124;43m'\u001b[39;49m\u001b[38;5;124;43mThe length is \u001b[39;49m\u001b[38;5;124;43m'\u001b[39;49m\u001b[43m \u001b[49m\u001b[38;5;241;43m+\u001b[39;49m\u001b[43m \u001b[49m\u001b[43mlength\u001b[49m)\n",
      "\u001b[1;31mTypeError\u001b[0m: can only concatenate str (not \"int\") to str"
     ]
    }
   ],
   "source": [
    "length = 13\n",
    "print('The length is ' + length)"
   ]
  },
  {
   "cell_type": "code",
   "execution_count": 36,
   "id": "23168bcc-0cc2-4bae-9ff8-6c81a06d5825",
   "metadata": {},
   "outputs": [
    {
     "name": "stdout",
     "output_type": "stream",
     "text": [
      "The length is 13\n"
     ]
    }
   ],
   "source": [
    "length = 13\n",
    "print('The length is ' + str(length))"
   ]
  },
  {
   "cell_type": "markdown",
   "id": "e5db2a67-43cc-4fe8-8149-f843fa01dc55",
   "metadata": {},
   "source": [
    "#### Comparing Strings\n",
    "\n",
    "In Python you can use the == operator:"
   ]
  },
  {
   "cell_type": "code",
   "execution_count": 14,
   "id": "21b5948c-f5b6-4f8e-ab4f-e0bb240d463f",
   "metadata": {},
   "outputs": [
    {
     "name": "stdout",
     "output_type": "stream",
     "text": [
      "(>^.^<)\n"
     ]
    }
   ],
   "source": [
    "string = 'chat'\n",
    "\n",
    "if string.upper() == 'chat'.upper(): print('(>^.^<)')"
   ]
  },
  {
   "cell_type": "code",
   "execution_count": 17,
   "id": "51a44710-bb9f-49ad-be99-8f5a038060a1",
   "metadata": {},
   "outputs": [
    {
     "name": "stdin",
     "output_type": "stream",
     "text": [
      "Please enter your first name:  laurent\n",
      "Please enter your last name:  heyvaert\n",
      "Please enter your birthyear:  1986\n"
     ]
    },
    {
     "name": "stdout",
     "output_type": "stream",
     "text": [
      "Your user name is HElaurent86\n"
     ]
    }
   ],
   "source": [
    "firstName = input('Please enter your first name: ')\n",
    "lastName = input('Please enter your last name: ')\n",
    "year = input('Please enter your birthyear: ')\n",
    "\n",
    "userName = lastName[:2].upper() + firstName.lower() + year[2:]\n",
    "\n",
    "print('Your user name is ' + userName)"
   ]
  },
  {
   "cell_type": "markdown",
   "id": "3215887c-fca1-48a1-b737-93ce65c376c1",
   "metadata": {},
   "source": [
    "## 8 Data Structures\n",
    "\n",
    "- **data structure** an organised collection of related elements.\n",
    "\n",
    "### Arrays\n",
    "\n",
    "You can access to a given element using [].\n",
    "\n",
    "#### Python\n",
    "\n",
    "In Python, arrays are not commonly used. Instead **lists** are used but they are very similar. Lists are **dynamic**. The items in the list do not have to be of the same data type."
   ]
  },
  {
   "cell_type": "code",
   "execution_count": 1,
   "id": "f99ba2ea-04f9-49bd-a96d-8d2f66d405b7",
   "metadata": {},
   "outputs": [
    {
     "name": "stdout",
     "output_type": "stream",
     "text": [
      "[]\n",
      "['Audi']\n",
      "['Audi', 'Kia']\n",
      "['Audi', 'Kia', 2012]\n"
     ]
    }
   ],
   "source": [
    "# Initialization of an empty list\n",
    "cars = []\n",
    "print(cars)\n",
    "cars.append('Audi')\n",
    "print(cars)\n",
    "cars.append('Kia')\n",
    "print(cars)\n",
    "cars.append(2012)\n",
    "print(cars)\n"
   ]
  },
  {
   "cell_type": "code",
   "execution_count": 57,
   "id": "5257c3cf-5101-4065-8331-c5a6324be123",
   "metadata": {},
   "outputs": [
    {
     "name": "stdout",
     "output_type": "stream",
     "text": [
      "Kia\n"
     ]
    }
   ],
   "source": [
    "cars = ['Audi','Kia','BMW','Ford']\n",
    "print(max(cars))"
   ]
  },
  {
   "cell_type": "code",
   "execution_count": 58,
   "id": "4b9c5f9c-4957-4c92-9c0f-288367592b1a",
   "metadata": {},
   "outputs": [
    {
     "name": "stdout",
     "output_type": "stream",
     "text": [
      "Audi\n"
     ]
    }
   ],
   "source": [
    "print(min(cars))"
   ]
  },
  {
   "cell_type": "code",
   "execution_count": 61,
   "id": "8f27d31c-fc2f-4873-8c38-b1c346f94079",
   "metadata": {},
   "outputs": [
    {
     "name": "stdout",
     "output_type": "stream",
     "text": [
      "['Kia']\n"
     ]
    }
   ],
   "source": [
    "print(cars[1:2])"
   ]
  },
  {
   "cell_type": "code",
   "execution_count": 16,
   "id": "1de2d76f-8850-430a-9f95-fa3ab6b6a884",
   "metadata": {},
   "outputs": [
    {
     "name": "stdout",
     "output_type": "stream",
     "text": [
      "slice(None, 6, None)\n",
      "This i\n",
      "This i\n"
     ]
    }
   ],
   "source": [
    "text = \"This is a text I'm going to slice\"\n",
    "\n",
    "# get slice object\n",
    "sliced_text = slice(6)\n",
    "print(sliced_text)\n",
    "print(text[sliced_text])\n",
    "# same as:\n",
    "print(text[:6])\n",
    "\n",
    "# Output: Python"
   ]
  },
  {
   "cell_type": "code",
   "execution_count": 9,
   "id": "19d8bef2-e9aa-4709-8e10-e48365a01477",
   "metadata": {},
   "outputs": [
    {
     "name": "stdout",
     "output_type": "stream",
     "text": [
      "hsi  \n",
      "hsi  \n"
     ]
    }
   ],
   "source": [
    "sliced_text = slice(1,10,2)\n",
    "print(text[sliced_text])\n",
    "# same as:\n",
    "print(text[1:10:2])"
   ]
  },
  {
   "cell_type": "markdown",
   "id": "422a0aae-51bb-419c-86a2-bbf8111114f8",
   "metadata": {},
   "source": [
    "#### Multidimensional Arrays\n",
    "\n",
    "A multidimensional array is an 'array of arrays'"
   ]
  },
  {
   "cell_type": "code",
   "execution_count": 1,
   "id": "51bc3488-334f-4ef0-9d6a-422373e41e80",
   "metadata": {},
   "outputs": [
    {
     "name": "stdout",
     "output_type": "stream",
     "text": [
      "3\n"
     ]
    }
   ],
   "source": [
    "multiArray = [[],[]]\n",
    "results = [[1,3,5,7,9],[2,4,6,8,10]]\n",
    "\n",
    "print(results[0][1])\n",
    "#print(results[1][3])\n",
    "\n",
    "#print(max(results[0][:]))"
   ]
  },
  {
   "cell_type": "markdown",
   "id": "881c2968-7992-4fd8-8bf1-4905cb2b7e44",
   "metadata": {},
   "source": [
    "### Records\n",
    "\n",
    "Python use list that can mix data types."
   ]
  },
  {
   "cell_type": "markdown",
   "id": "0bd04ae7-ce39-441b-bbc1-8acbc262ec58",
   "metadata": {},
   "source": [
    "## 9 Input/Output\n",
    "\n",
    "All progran has some data **Input** and information **Output**.\n",
    "\n",
    "### User Input\n",
    "\n",
    "When a program requires some direct input from the user.\n",
    "\n",
    "#### Validation\n",
    "\n",
    "- **Validation** : check if the data entered is valid.\n",
    "\n"
   ]
  },
  {
   "cell_type": "markdown",
   "id": "caf16a87-68bd-4e95-833d-43b75b35b2f7",
   "metadata": {},
   "source": [
    "##### Range check\n",
    "\n",
    "Check to ensure that the data entered is within a specified range."
   ]
  },
  {
   "cell_type": "code",
   "execution_count": 3,
   "id": "0a3e9354-208d-4c2d-9229-da23ca160204",
   "metadata": {},
   "outputs": [
    {
     "name": "stdin",
     "output_type": "stream",
     "text": [
      "Please enter a number between 1 to 10:  13\n",
      "Please enter a number between 1 to 10:  14\n",
      "Please enter a number between 1 to 10:  0\n",
      "Please enter a number between 1 to 10:  6\n"
     ]
    },
    {
     "name": "stdout",
     "output_type": "stream",
     "text": [
      "You have entered: 6\n"
     ]
    }
   ],
   "source": [
    "# Range check\n",
    "\n",
    "validNum = False\n",
    "\n",
    "while validNum == False:\n",
    "    number = int(input('Please enter a number between 1 to 10: '))\n",
    "    if number >= 1 and number <= 10:\n",
    "        validNum = True\n",
    "\n",
    "print('You have entered:', number)"
   ]
  },
  {
   "cell_type": "markdown",
   "id": "a122c7f5-3d0f-48f8-9477-162d1ffe425c",
   "metadata": {},
   "source": [
    "##### Presence Check\n",
    "\n",
    "Check to ensure that a value has been entered."
   ]
  },
  {
   "cell_type": "code",
   "execution_count": 42,
   "id": "474dbb3b-617f-4668-9c66-dafbc5a57a0a",
   "metadata": {},
   "outputs": [
    {
     "name": "stdin",
     "output_type": "stream",
     "text": [
      "Enter Username:  \n",
      "Enter Username:  \n",
      "Enter Username:  \n",
      "Enter Username:  \n",
      "Enter Username:  \n",
      "Enter Username:  lolo\n"
     ]
    },
    {
     "name": "stdout",
     "output_type": "stream",
     "text": [
      "Hello lolo\n"
     ]
    }
   ],
   "source": [
    "# Presence check\n",
    "\n",
    "userName = ''\n",
    "\n",
    "while userName == '':\n",
    "    userName = input('Enter Username: ')\n",
    "\n",
    "print('Hello ' + userName)"
   ]
  },
  {
   "cell_type": "markdown",
   "id": "cd00b738-7dfa-4045-8e85-154815750dab",
   "metadata": {},
   "source": [
    "##### Look-Up Check\n",
    "\n",
    "Check if the input is one of a predefined set of acceptable values."
   ]
  },
  {
   "cell_type": "code",
   "execution_count": 50,
   "id": "957e9600-2b44-4beb-8340-233b1aad6b5b",
   "metadata": {},
   "outputs": [
    {
     "name": "stdout",
     "output_type": "stream",
     "text": [
      "['AB05', 'CD34', 'GT12', 'KL67']\n"
     ]
    },
    {
     "name": "stdin",
     "output_type": "stream",
     "text": [
      "Select a form ab05\n"
     ]
    },
    {
     "name": "stdout",
     "output_type": "stream",
     "text": [
      "Form is valid\n"
     ]
    }
   ],
   "source": [
    "arrayForms = ['AB05', 'CD34', 'GT12', 'KL67']\n",
    "\n",
    "print(arrayForms)\n",
    "form = input('Select a form')\n",
    "\n",
    "valid = False\n",
    "if form in arrayForms: valid = True\n",
    "\n",
    "if valid:\n",
    "    print('Form is valid')\n",
    "else:\n",
    "    print('The form you entered does not exist')\n",
    "\n",
    "# how to care about the case???"
   ]
  },
  {
   "cell_type": "markdown",
   "id": "4e1fcfd5-ac17-4ec9-bc9b-785ccceaa3c6",
   "metadata": {},
   "source": [
    "##### Length Check\n",
    "\n",
    "Check if the length of a string is within predefined values.\n",
    "\n",
    "Use the fonction *len()* in Python. You cannot get the length of an integer with *len()*."
   ]
  },
  {
   "cell_type": "code",
   "execution_count": 5,
   "id": "f8a6cd9a-4933-4ecf-a660-b1b1841ea17a",
   "metadata": {},
   "outputs": [
    {
     "name": "stdin",
     "output_type": "stream",
     "text": [
      "Phone number:   01023541245\n"
     ]
    },
    {
     "name": "stdout",
     "output_type": "stream",
     "text": [
      "Phone number valid\n"
     ]
    }
   ],
   "source": [
    "phoneNumber = input('Phone number:  ')\n",
    "\n",
    "length = len(phoneNumber)\n",
    "\n",
    "if length >= 8 and length <= 11:\n",
    "    print('Phone number valid')\n",
    "else:\n",
    "    print('Phone number not valid')"
   ]
  },
  {
   "cell_type": "markdown",
   "id": "f0faa75f-1336-49ed-87e3-f77e77ea547c",
   "metadata": {},
   "source": [
    "### Testing Validation Rules\n",
    "\n",
    "- **Normal data**: the data is within the limits of what should be accepted by the program.\n",
    "- **Boudary data**: the data is at the outer limits of what should be accepted by the program.\n",
    "- **Erroneous data**: the data that should not be accepted by the program.\n",
    "\n",
    "### Working with Text Files\n",
    "\n",
    "You can read from a **text file** but also write in a **text file**. Text files provide permanent storage.\n",
    "\n",
    "#### Python\n",
    "\n",
    "- **file handle**: a label that is addigned to a ressource needed by the program.\n",
    "- **overwritten**: if a file exists and a new file is created with the same name, the old one is lost.\n",
    "\n",
    "| Command | Description |\n",
    "| ------- | ----------- |\n",
    "|myFile = open('names.txt., 'r') | open a file named names.txt in reading mode only |\n",
    "|myFile = open('names.txt., 'w') | open a file named names.txt to be written to. If the file did exist it would be **overwrite** |\n",
    "|myFile = open('names.txt., 'a') | open a file named names.txt to add data (a = append) |\n"
   ]
  },
  {
   "cell_type": "markdown",
   "id": "ecc0525a-2990-47de-bbe5-de5e189d9f49",
   "metadata": {},
   "source": [
    "You can write in a file using the method *.write()*.\n",
    "\n",
    "It is a good practice to close the file when the program does not need it anymore, with the method **.close()**."
   ]
  },
  {
   "cell_type": "code",
   "execution_count": 7,
   "id": "8a487620-b49f-4afe-a708-63313c6c35b3",
   "metadata": {},
   "outputs": [],
   "source": [
    "myFile = open('TextFiles/names.txt', 'w')\n",
    "myFile.write('First item')\n",
    "myFile.write('Second item')\n",
    "myFile.write('third item')\n",
    "myFile.close()"
   ]
  },
  {
   "cell_type": "markdown",
   "id": "287a312a-0151-4d32-b43d-fd810b9e1192",
   "metadata": {},
   "source": [
    "Check the file you have created and you will see that there is no separation.\n",
    "If you want to be able to read the file again you need to write a character that make the separation."
   ]
  },
  {
   "cell_type": "code",
   "execution_count": 1,
   "id": "06e9fe14-a144-4e1b-8aeb-c81430634419",
   "metadata": {},
   "outputs": [],
   "source": [
    "myFile = open('TextFiles/names2.txt', 'w')\n",
    "myFile.write('First item' + '\\n')\n",
    "myFile.write('Second item' + '\\n,')\n",
    "myFile.close()"
   ]
  },
  {
   "cell_type": "markdown",
   "id": "976513a8-e74c-4f3d-8908-016446cd40f9",
   "metadata": {},
   "source": [
    "You can extract data from a file:"
   ]
  },
  {
   "cell_type": "code",
   "execution_count": 35,
   "id": "5cf604f1-19d0-40f7-bdb9-bd62ae6b69dc",
   "metadata": {},
   "outputs": [],
   "source": [
    "# let's write a list in a file\n",
    "data = ['BMW', 'Toyota', 'Audi', 'Renault', 'Rover']\n",
    "myFile = open('TextFiles/cars.txt', 'w')\n",
    "for index in range(len(data)):\n",
    "    myFile.write((data[index]) + ',')\n",
    "myFile.close()"
   ]
  },
  {
   "cell_type": "markdown",
   "id": "45fbcc33-6f04-47d6-bf52-bcadd0455d23",
   "metadata": {},
   "source": [
    "You can read a file with the method *.read()*. You can separate the different items using *.split()*. "
   ]
  },
  {
   "cell_type": "code",
   "execution_count": 3,
   "id": "5a6a3489-1f3b-4f1b-8f9f-8f47fb9e3521",
   "metadata": {},
   "outputs": [
    {
     "name": "stdout",
     "output_type": "stream",
     "text": [
      "['BMW', 'Toyota', 'Audi', 'Renault', 'Rover', '']\n"
     ]
    }
   ],
   "source": [
    "c"
   ]
  },
  {
   "cell_type": "markdown",
   "id": "76083dcc-6a1f-4d46-ac6c-58f34204ed99",
   "metadata": {},
   "source": [
    "#### Activity 24\n",
    "\n",
    "! you can only write a string."
   ]
  },
  {
   "cell_type": "code",
   "execution_count": 4,
   "id": "ccba118e-c9a8-4861-a86b-5b4fce2203a9",
   "metadata": {},
   "outputs": [],
   "source": [
    "# Writting the file with the previous high score\n",
    "highScore = [98,90,92,95,100]\n",
    "myFile = open('TextFiles/highScoreSaved.txt', 'w')\n",
    "\n",
    "#  up to length -1 to not write the last ,\n",
    "for index in range(len(highScore) - 1):\n",
    "    myFile.write(str((highScore[index])) + ',')\n",
    "myFile.write(str((highScore[-1]))) \n",
    "\n",
    "myFile.close()"
   ]
  },
  {
   "cell_type": "code",
   "execution_count": 5,
   "id": "7f9b1bf5-81e9-4518-8a46-d676474955b5",
   "metadata": {},
   "outputs": [
    {
     "name": "stdout",
     "output_type": "stream",
     "text": [
      "['98', '90', '92', '95', '100', '']\n"
     ]
    }
   ],
   "source": [
    "# Reading the previous high score\n",
    "highScoreOld = []\n",
    "\n",
    "myFile = open('TextFiles/highScoreSaved.txt', 'r') \n",
    "highScoreOld = myFile.read().split(',')\n",
    "\n",
    "myFile.close()\n",
    "\n",
    "print(highScoreOld)"
   ]
  },
  {
   "cell_type": "markdown",
   "id": "0fa4d840-b2cc-4ecf-a1d1-c2e12b4e332c",
   "metadata": {},
   "source": [
    "##### Python\n",
    "\n",
    "How to write a multi-dimensional arrays:"
   ]
  },
  {
   "cell_type": "code",
   "execution_count": 6,
   "id": "b6816ebd-322f-4d18-98c0-0835ffd56468",
   "metadata": {},
   "outputs": [
    {
     "name": "stdout",
     "output_type": "stream",
     "text": [
      "[['Sophie', 79], ['Julie', 58], ['Maxime', 70]]\n"
     ]
    }
   ],
   "source": [
    "# Writting the file\n",
    "\n",
    "score = [['Sophie', 79], ['Julie', 58], ['Maxime', 70]]\n",
    "\n",
    "myFile = open('TextFiles/results.txt', 'w') \n",
    "\n",
    "for index in range(len(score)):\n",
    "    myFile.write(score[index][0] + ',')\n",
    "    new = str(score[index][1])\n",
    "    myFile.write(new + ',')\n",
    "\n",
    "myFile.close()\n",
    "\n",
    "# Reading the file\n",
    "\n",
    "dummyList = []\n",
    "myFile = open('TextFiles/results.txt', 'r')\n",
    "dummyList = myFile.read().split(',')\n",
    "\n",
    "myFile.close()\n",
    "\n",
    "newScore = []\n",
    "for index in range(0, len(dummyList) - 1, 2):\n",
    "    newScore.append([dummyList[index], int(dummyList[index + 1])])\n",
    "\n",
    "print(newScore)\n"
   ]
  },
  {
   "cell_type": "code",
   "execution_count": 11,
   "id": "cbeb9e1e-dbab-4456-96cd-243afd016149",
   "metadata": {},
   "outputs": [
    {
     "name": "stdout",
     "output_type": "stream",
     "text": [
      "[['Sophie', '79'], ['Julie', '58'], ['Maxime', '70']]\n"
     ]
    }
   ],
   "source": [
    "# Another method\n",
    "\n",
    "score = [['Sophie', 79], ['Julie', 58], ['Maxime', 70]]\n",
    "\n",
    "myFile = open('TextFiles/results2.txt', 'w') \n",
    "for index in range(len(score)):\n",
    "    myFile.write(score[index][0] + ',' + str(score[index][1]) + ',' + '\\n')\n",
    "myFile.close()\n",
    "\n",
    "myFile = open('TextFiles/results2.txt', 'r') \n",
    "\n",
    "newScore = []\n",
    "\n",
    "with open(\"TextFiles/results2.txt\") as myFile:\n",
    "    newScore = []\n",
    "    for line in myFile:\n",
    "        newScore.append(line.split(',')[0:2])\n",
    "\n",
    "\n",
    "print(newScore)"
   ]
  },
  {
   "cell_type": "markdown",
   "id": "9d57a637-d552-47c6-93f9-d360c70fd3b6",
   "metadata": {},
   "source": [
    "## 10 Subprograms\n",
    "\n",
    "A subprogram is a self-contained module of code that performs a specific task.\n",
    "\n",
    "### Functions\n",
    "\n",
    "<img src=\"Img/flowchart_sub.png\" width=\"150\">\n",
    "\n",
    "In Python we use *def* to declare a function."
   ]
  },
  {
   "cell_type": "code",
   "execution_count": 16,
   "id": "b35c2f43-e4b3-44ea-a147-bc3aae9810ef",
   "metadata": {},
   "outputs": [
    {
     "name": "stdout",
     "output_type": "stream",
     "text": [
      "1\n",
      "6\n",
      "5\n",
      "6\n",
      "3\n",
      "1\n",
      "3\n",
      "4\n",
      "6\n",
      "6\n"
     ]
    }
   ],
   "source": [
    "import random\n",
    "\n",
    "def dice6():\n",
    "    simDie = random.randint(1,6)\n",
    "    return simDie\n",
    "\n",
    "for i in range(1,11):\n",
    "    print(dice6())"
   ]
  },
  {
   "cell_type": "markdown",
   "id": "cb8ac012-dc53-4f17-a252-4a3ff1c5f464",
   "metadata": {},
   "source": [
    "### Local and Global Variables\n",
    "\n",
    "- **Local Variable**: a variable that is accessed only from within the subprogram in which it is created\n",
    "- **global variable**: a variable that can be accessed from anywhere in the program, including inside subprograms\n",
    "\n",
    "#### Procedures\n",
    "\n",
    "A function without return is a procedure, `def` without a `return`.\n"
   ]
  },
  {
   "cell_type": "code",
   "execution_count": 82,
   "id": "4b2d014a-a12c-49c2-a817-6701076d0b47",
   "metadata": {},
   "outputs": [
    {
     "name": "stdout",
     "output_type": "stream",
     "text": [
      "6\n"
     ]
    }
   ],
   "source": [
    "import random\n",
    "\n",
    "# simulation of a 6 faces dice\n",
    "def dice6():\n",
    "    simDie = random.randint(1,6)\n",
    "    print(simDie)\n",
    "\n",
    "dice6()"
   ]
  },
  {
   "cell_type": "markdown",
   "id": "a4aaaf25-6fdb-4535-b664-6cc8bba152a7",
   "metadata": {},
   "source": [
    "## Arguments and Parameters\n",
    "\n",
    "- **parameter**: the names of the variables that are used in the subroutine to store the data passed from the main program as arguments"
   ]
  },
  {
   "cell_type": "code",
   "execution_count": 9,
   "id": "1daa0e3c-67a6-468f-b0ad-56ff7d70b24d",
   "metadata": {},
   "outputs": [
    {
     "name": "stdout",
     "output_type": "stream",
     "text": [
      "60\n"
     ]
    }
   ],
   "source": [
    "# Function rectangle\n",
    "def rectangle(length, width):\n",
    "    area = length * width\n",
    "    return area\n",
    "\n",
    "l = 5\n",
    "w = 12\n",
    "A = rectangle(l,w)\n",
    "print(A)"
   ]
  },
  {
   "cell_type": "markdown",
   "id": "4c4663cb-ad70-4fa0-ac31-752a0953f590",
   "metadata": {},
   "source": [
    "- **scope**: the region of code within which a variable is visible\n",
    "\n",
    "More than one values can be returned by a function."
   ]
  },
  {
   "cell_type": "code",
   "execution_count": 20,
   "id": "18c44c6d-f56e-40e8-b1c5-648e328dbc9d",
   "metadata": {},
   "outputs": [
    {
     "name": "stdout",
     "output_type": "stream",
     "text": [
      "Area:  72\n",
      "Circumference:  36\n"
     ]
    }
   ],
   "source": [
    "# Function rectangle\n",
    "def rectangle(length, width):\n",
    "    area = length * width\n",
    "    circumference = (2 * length) + (2 * width)\n",
    "    return area, circumference\n",
    "\n",
    "l = 6\n",
    "w = 12\n",
    "A,C = rectangle(l,w)\n",
    "print('Area: ', A)\n",
    "print('Circumference: ', C)"
   ]
  },
  {
   "cell_type": "markdown",
   "id": "1c8d8882-8334-4356-9439-3a26c7d48c10",
   "metadata": {},
   "source": [
    "### Subprograms and Menus\n",
    "\n",
    "You can use functions to create a menu with a list of option.\n",
    "\n",
    "### The Benefits of Using Subprograms\n",
    "\n",
    "Subprograms improve the structure of the code.\n",
    "Different team members can work independently on different subprograms.\n",
    "\n",
    "### Built-In functions\n",
    "\n",
    "- **built-in functions**: functions that are provided to perforn common tasks"
   ]
  },
  {
   "cell_type": "code",
   "execution_count": 2,
   "id": "eb4ba65f-011e-4f16-8e2b-48c3697a46f7",
   "metadata": {},
   "outputs": [
    {
     "name": "stdout",
     "output_type": "stream",
     "text": [
      "[5, 7, 21, 32, 34, 54, 62, 64, 90]\n"
     ]
    }
   ],
   "source": [
    "# Example with the method .sort() to order a list.\n",
    "myList = [32,54,21,64,5,62,90,34,7]\n",
    "myList.sort()\n",
    "print(myList)"
   ]
  },
  {
   "cell_type": "markdown",
   "id": "37bf9264-14af-4659-93e9-54c9a7cdff60",
   "metadata": {},
   "source": [
    "##### Checkpoint\n",
    "\n",
    "S3: It works but it make the code not clear.\n",
    "\n",
    "##### Challenge\n",
    "\n",
    "Try to code yourself.\n",
    "\n"
   ]
  },
  {
   "cell_type": "code",
   "execution_count": 64,
   "id": "99f5ecf6-2560-418e-9b82-d36043dd4bd8",
   "metadata": {},
   "outputs": [
    {
     "name": "stdout",
     "output_type": "stream",
     "text": [
      "[0, 6, 3, 16, 20, 2, 11, 1, 9, 6, 1, 4, 20, 2, 12, 13, 3, 16, 12, 11, 6]\n",
      "[6]\n"
     ]
    }
   ],
   "source": [
    "import random\n",
    "\n",
    "def mean(numbers):\n",
    "    sum = 0\n",
    "    for index in range(0,len(numbers)):\n",
    "        sum = sum + number[index]\n",
    "    return sum/len(numbers)\n",
    "\n",
    "def median(numbers):\n",
    "    #sort numbers in ascending order\n",
    "    numbers.sort()\n",
    "    how_many_numbers = len(numbers)\n",
    "    #when the number of numbers in the list is odd, must find middle value\n",
    "    if how_many_numbers % 2 == 1:\n",
    "        return number[int(how_many_numbers / 2)]\n",
    "    #when the number of numbers in the list is even, must find mean of two medians\n",
    "    else:\n",
    "        first_median = numbers[int(how_many_numbers / 2) - 1]\n",
    "        second_median = numbers[int(how_many_numbers / 2)]\n",
    "        return (first_median + second_median) / 2\n",
    "\n",
    "def mode(numbers):\n",
    "    mode2 = []\n",
    "    frequency = 0\n",
    "    for i in range(0,len(numbers)):\n",
    "        number_in_list = numbers[i]\n",
    "        sum = 0\n",
    "        for j in range(0,len(numbers)):\n",
    "            if numbers[j] == numbers[i]:\n",
    "                sum = sum + 1\n",
    "        if sum > frequency:\n",
    "            del mode2[:]\n",
    "            mode2 = [number_in_list]\n",
    "            frequency = sum\n",
    "        if sum == frequency and number_in_list not in mode2:\n",
    "            mode2.append(number_in_list)\n",
    "            frequency = sum\n",
    "        \n",
    "    return mode2\n",
    " \n",
    "\n",
    "\n",
    "def dice20():\n",
    "    simDie = random.randint(1,20)\n",
    "    return simDie\n",
    "\n",
    "numbers = [0]\n",
    "\n",
    "for i in range(1,21):\n",
    "    numbers.append(dice20())\n",
    "\n",
    "print(numbers)\n",
    "print(mode(numbers))\n"
   ]
  },
  {
   "cell_type": "markdown",
   "id": "7de33c3d-04c3-47c0-a610-7e348cb1ccf9",
   "metadata": {},
   "source": [
    "## 11 Testing and Evaluation\n",
    "\n",
    "Always test your program before it goes live!\n",
    "\n",
    "### Logic Errors\n",
    "\n",
    "The output is not what is excpeted or intended.\n",
    "\n",
    "- **infinite loop**: a loop that us never-ending"
   ]
  },
  {
   "cell_type": "code",
   "execution_count": 12,
   "id": "e79370c1-a1fb-458a-a7c8-cde510110b2e",
   "metadata": {},
   "outputs": [
    {
     "name": "stdin",
     "output_type": "stream",
     "text": [
      "Please enter the year group:  12\n"
     ]
    },
    {
     "name": "stdout",
     "output_type": "stream",
     "text": [
      "year group is valid\n"
     ]
    }
   ],
   "source": [
    "# Activity 28\n",
    "\n",
    "checkYear = False\n",
    "while not checkYear:\n",
    "    yearGroup = int(input('Please enter the year group: '))\n",
    "    if yearGroup >= 7 or yearGroup <= 13:\n",
    "        checkYear = True\n",
    "        print('year group is valid')\n"
   ]
  },
  {
   "cell_type": "markdown",
   "id": "a5ad45c3-216b-4138-967e-400d3597ee1b",
   "metadata": {},
   "source": [
    "#### Trace Tables\n",
    "\n",
    "The formal way of checking the logic of an algorithm is to use a **trace table**.\n",
    "\n",
    "- **trace table**: a technique used to identify any logic errors in algorithms. Each column represents a variable or output and each row a value of that variable\n",
    "\n",
    "### Syntax Errors\n",
    "\n",
    "Syntax errors occur when the grammar rules of a programming language are not followed. The IDE will often suggest you about a potential syntax errors."
   ]
  },
  {
   "cell_type": "raw",
   "id": "63d9db52-2024-426c-8d4d-22418d56a47e",
   "metadata": {},
   "source": [
    "# Example of a syntax error\n",
    "\n",
    "number = 12\n",
    "anotherNumber = 134\n",
    "if anotherNumber > number:\n",
    "    print('It is greater!')"
   ]
  },
  {
   "cell_type": "markdown",
   "id": "3f21a778-7107-4ef8-97f7-3bf9206ecf2a",
   "metadata": {},
   "source": [
    "### Runtime Errors\n",
    "\n",
    "- **runtime error**: an error that occurs while the program is running"
   ]
  },
  {
   "cell_type": "code",
   "execution_count": 51,
   "id": "990790b3-4152-47df-baf0-33c495332afe",
   "metadata": {},
   "outputs": [
    {
     "name": "stdin",
     "output_type": "stream",
     "text": [
      "Please enter the first number:  4\n",
      "Please enter the second number:  0\n"
     ]
    },
    {
     "ename": "ZeroDivisionError",
     "evalue": "division by zero",
     "output_type": "error",
     "traceback": [
      "\u001b[1;31m---------------------------------------------------------------------------\u001b[0m",
      "\u001b[1;31mZeroDivisionError\u001b[0m                         Traceback (most recent call last)",
      "Cell \u001b[1;32mIn[51], line 5\u001b[0m\n\u001b[0;32m      3\u001b[0m firstNumber \u001b[38;5;241m=\u001b[39m \u001b[38;5;28mint\u001b[39m(\u001b[38;5;28minput\u001b[39m(\u001b[38;5;124m'\u001b[39m\u001b[38;5;124mPlease enter the first number: \u001b[39m\u001b[38;5;124m'\u001b[39m))\n\u001b[0;32m      4\u001b[0m secondtNumber \u001b[38;5;241m=\u001b[39m \u001b[38;5;28mint\u001b[39m(\u001b[38;5;28minput\u001b[39m(\u001b[38;5;124m'\u001b[39m\u001b[38;5;124mPlease enter the second number: \u001b[39m\u001b[38;5;124m'\u001b[39m))\n\u001b[1;32m----> 5\u001b[0m result \u001b[38;5;241m=\u001b[39m \u001b[43mfirstNumber\u001b[49m\u001b[43m \u001b[49m\u001b[38;5;241;43m/\u001b[39;49m\u001b[43m \u001b[49m\u001b[43msecondtNumber\u001b[49m\n\u001b[0;32m      6\u001b[0m \u001b[38;5;28mprint\u001b[39m(result)\n",
      "\u001b[1;31mZeroDivisionError\u001b[0m: division by zero"
     ]
    }
   ],
   "source": [
    "# Example of a runtime error\n",
    "\n",
    "firstNumber = int(input('Please enter the first number: '))\n",
    "secondtNumber = int(input('Please enter the second number: '))\n",
    "result = firstNumber / secondtNumber\n",
    "print(result)"
   ]
  },
  {
   "cell_type": "markdown",
   "id": "016d1ed6-dd3d-45fd-b758-c96510521dbb",
   "metadata": {},
   "source": [
    "### Error Summary\n",
    "\n",
    "| Type of Error | Description |\n",
    "| ------------- | ----------- |\n",
    "| Logic | The program does not produce the expected result |\n",
    "| Syntax | Part of the code breaks the rules of a language |\n",
    "| Runtime | The computer tries to run code that it cannot execute |"
   ]
  },
  {
   "cell_type": "markdown",
   "id": "be1966a2-302e-4340-9bd6-c2cc7c64ebc6",
   "metadata": {},
   "source": [
    "### Using an Integrated Development Environment (IDE)\n",
    "\n",
    "- **IDE** a package that helps programmers to develop program code.\n",
    "- **debuger** a computer program that assists in the detection and correction of errors in other computer programs\n",
    "\n",
    " Let's try the debugger on Replit.\n",
    "\n",
    "### The test plan\n",
    "\n",
    " It is very important that you have a test plan. Before coding the program itself you should lready thinking about how to check that your code .\n",
    "\n",
    " | Test No. | Purpose of the test | Test Data | Expected Result | Actual Result | Action Needed\\Comments | \n",
    "| ------- |  ----------- | ----------- | ----------- | ----------- |----------- |\n",
    "| 1  | The features that need to be tested | What data should be used to check this feature | Expected result following the algorithm | Output form your program  | What should be done if there is a discrepancy |\n",
    "\n",
    "### Evaluating Programs\n",
    "\n",
    "<img src=\"Img/U2_EvaluatingPrograms.png\" width=\"600\">\n",
    "\n",
    "- **Requirements:** This is very important for you. It shows that you have understood the different steps learnt in this book.\n",
    "- **Validation:** This is a ++ for you program.\n",
    "- **Code readability:** This is also important for you. Your code should be easy to read and understand.\n",
    "- **The efficency of the program:** For now this is not what you should focus on. It will come with practice.\n",
    "- **Usability:** Of course your program should be easy to use. You can include a *readme* in your software to explain how it is working."
   ]
  }
 ],
 "metadata": {
  "kernelspec": {
   "display_name": "Python 3 (ipykernel)",
   "language": "python",
   "name": "python3"
  },
  "language_info": {
   "codemirror_mode": {
    "name": "ipython",
    "version": 3
   },
   "file_extension": ".py",
   "mimetype": "text/x-python",
   "name": "python",
   "nbconvert_exporter": "python",
   "pygments_lexer": "ipython3",
   "version": "3.12.4"
  }
 },
 "nbformat": 4,
 "nbformat_minor": 5
}
